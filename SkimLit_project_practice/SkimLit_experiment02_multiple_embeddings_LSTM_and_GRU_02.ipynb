{
  "nbformat": 4,
  "nbformat_minor": 0,
  "metadata": {
    "colab": {
      "provenance": [],
      "gpuType": "T4"
    },
    "kernelspec": {
      "name": "python3",
      "display_name": "Python 3"
    },
    "language_info": {
      "name": "python"
    },
    "accelerator": "GPU"
  },
  "cells": [
    {
      "cell_type": "markdown",
      "source": [
        "# Notebook 02: RNN models and token, character, positional embeddings\n",
        "\n",
        "In this notebook, we experiment on two RNN models for our sentence classification task. Please see the next section for motivations."
      ],
      "metadata": {
        "id": "MyLKO-km4ehC"
      }
    },
    {
      "cell_type": "markdown",
      "source": [
        "## 2.1 Motivation for the RNN model"
      ],
      "metadata": {
        "id": "QQERJXIPjMcK"
      }
    },
    {
      "cell_type": "markdown",
      "source": [
        "In **notebook 01**, we have seen that our customized token embedding works well in the CNN model. We have also seen that the `universal sentence encoder` token embedding achieves a good accuracy within a reasonable runtime in a dense model. So, what about concatenating them together into a single model? Would this model outperforms all our previous experiments? Moreover, as hinted in **notebook 00**, there are two additional features we have yet explored --- the relative position of each sentence in the abstract (`line_number`) and the characters within the sentences. Can we build a better model using token, character, and positional embeddings? Let's explore the idea in this notebook.\n",
        "\n"
      ],
      "metadata": {
        "id": "JCSJlyi6j9rH"
      }
    },
    {
      "cell_type": "markdown",
      "source": [
        ">[Notebook 02: RNN models and token, character, positional embeddings](#scrollTo=MyLKO-km4ehC)\n",
        "\n",
        ">>[2.1 Motivation for the RNN model](#scrollTo=QQERJXIPjMcK)\n",
        "\n",
        ">>[2.2 Load and check dependencies](#scrollTo=QRDvGm0d5Dku)\n",
        "\n",
        ">>>[2.2.1 Load dependencies](#scrollTo=hPlhaFTn5vDi)\n",
        "\n",
        ">>>[2.2.2 Load and preprocess data](#scrollTo=gHhGAr2d50nf)\n",
        "\n",
        ">>[2.3 Character, position, and token embeddings](#scrollTo=eX3W5JiIiEOp)\n",
        "\n",
        ">>>[2.3.1 Character embedding](#scrollTo=zL2awOBYiMBU)\n",
        "\n",
        ">>>[2.3.2 Positional embedding](#scrollTo=o88VvkE3iTci)\n",
        "\n",
        ">>>[2.3.3 token embedding](#scrollTo=d-_MZS3TiXgM)\n",
        "\n",
        ">>>[2.3.4 Batch data for token, character, and positional embeddings](#scrollTo=J4-T-1GaIrSQ)\n",
        "\n",
        ">>[2.4 Experiments on RNN models](#scrollTo=j8bZ3tKIia9y)\n",
        "\n",
        ">>>[2.4.1 Model_LSTM: multiple embeddings with LSTM](#scrollTo=evMs4W9YieN8)\n",
        "\n",
        ">>>[2.4.2 Model_GRU: multiple embeddings with GRU](#scrollTo=lH2KqUD_iscL)\n",
        "\n",
        ">>[2.5 Model comparison](#scrollTo=Y8wYpedzizCb)\n",
        "\n"
      ],
      "metadata": {
        "colab_type": "toc",
        "id": "7Ia1dOMO5kM0"
      }
    },
    {
      "cell_type": "markdown",
      "source": [
        "## 2.2 Load and check dependencies"
      ],
      "metadata": {
        "id": "QRDvGm0d5Dku"
      }
    },
    {
      "cell_type": "markdown",
      "source": [
        "### 2.2.1 Load dependencies"
      ],
      "metadata": {
        "id": "hPlhaFTn5vDi"
      }
    },
    {
      "cell_type": "code",
      "execution_count": 1,
      "metadata": {
        "colab": {
          "base_uri": "https://localhost:8080/"
        },
        "id": "rReXGJhcwHuj",
        "outputId": "366edb93-5f86-4745-d694-a47eae2cab01"
      },
      "outputs": [
        {
          "output_type": "stream",
          "name": "stdout",
          "text": [
            "GPU 0: Tesla T4 (UUID: GPU-ebd5542b-3777-930f-80d6-4e3647bff10e)\n"
          ]
        }
      ],
      "source": [
        "# check for GPU\n",
        "!nvidia-smi -L"
      ]
    },
    {
      "cell_type": "code",
      "source": [
        "# revert back to a previous version of tensorflow to make sure tensorflow is\n",
        "# compatible with tensorflow hub.\n",
        "!pip -q install tensorflow==2.15.0 tensorflow-hub keras==2.15.0;\n",
        "\n",
        "import tensorflow as tf\n",
        "\n",
        "print(tf.version.VERSION)"
      ],
      "metadata": {
        "colab": {
          "base_uri": "https://localhost:8080/"
        },
        "id": "Q7KEm2ZVQvkd",
        "outputId": "73f43547-4b5e-441a-9c84-9e86ad094293"
      },
      "execution_count": 2,
      "outputs": [
        {
          "output_type": "stream",
          "name": "stdout",
          "text": [
            "2.15.0\n"
          ]
        }
      ]
    },
    {
      "cell_type": "code",
      "source": [
        "from tensorflow.keras.utils import plot_model\n",
        "import numpy as np\n",
        "import matplotlib.pyplot as plt\n",
        "import pandas as pd"
      ],
      "metadata": {
        "id": "cor0Yr0S5bi6"
      },
      "execution_count": 3,
      "outputs": []
    },
    {
      "cell_type": "code",
      "source": [
        "!wget https://raw.githubusercontent.com/ZYWZong/ML_Practice_Projects/refs/heads/main/SkimLit_project_practice/SkimLit_utils.py\n",
        "\n",
        "from SkimLit_utils import *"
      ],
      "metadata": {
        "colab": {
          "base_uri": "https://localhost:8080/"
        },
        "id": "FbuDgVsY5fa8",
        "outputId": "3ce6fb92-1fdf-447e-f303-1ca9ac10a99c"
      },
      "execution_count": 4,
      "outputs": [
        {
          "output_type": "stream",
          "name": "stdout",
          "text": [
            "--2024-12-28 03:23:47--  https://raw.githubusercontent.com/ZYWZong/ML_Practice_Projects/refs/heads/main/SkimLit_project_practice/SkimLit_utils.py\n",
            "Resolving raw.githubusercontent.com (raw.githubusercontent.com)... 185.199.108.133, 185.199.109.133, 185.199.110.133, ...\n",
            "Connecting to raw.githubusercontent.com (raw.githubusercontent.com)|185.199.108.133|:443... connected.\n",
            "HTTP request sent, awaiting response... 200 OK\n",
            "Length: 8010 (7.8K) [text/plain]\n",
            "Saving to: ‘SkimLit_utils.py’\n",
            "\n",
            "SkimLit_utils.py    100%[===================>]   7.82K  --.-KB/s    in 0s      \n",
            "\n",
            "2024-12-28 03:23:47 (90.5 MB/s) - ‘SkimLit_utils.py’ saved [8010/8010]\n",
            "\n"
          ]
        }
      ]
    },
    {
      "cell_type": "markdown",
      "source": [
        "### 2.2.2 Load and preprocess data"
      ],
      "metadata": {
        "id": "gHhGAr2d50nf"
      }
    },
    {
      "cell_type": "code",
      "source": [
        "!git clone --quiet https://github.com/Franck-Dernoncourt/pubmed-rct.git;"
      ],
      "metadata": {
        "id": "gKBa_ipLqqIv"
      },
      "execution_count": 5,
      "outputs": []
    },
    {
      "cell_type": "markdown",
      "source": [
        "Let's preprocess our data as in **notebook 00**."
      ],
      "metadata": {
        "id": "PYha-OuMqyry"
      }
    },
    {
      "cell_type": "code",
      "source": [
        "data_dir = \"pubmed-rct/PubMed_20k_RCT_numbers_replaced_with_at_sign/\"\n",
        "\n",
        "# preprocess the data as in notebook 00\n",
        "train_df, dev_df, test_df = SkimLit_preprocess_master(data_dir)\n",
        "\n",
        "# create one-hot encoding for tensorflow models\n",
        "data_all = SkimLit_preprocess_OneHot_NN(train_df, dev_df, test_df)\n",
        "\n",
        "# batch data_all for fast processing\n",
        "data_all_batched = SkimLit_batching_data(data_all)\n",
        "\n",
        "# create category labels as 0,1,2,3,4 for evalutions\n",
        "label_Encoded = SkimLit_preprocess_EncodedLabels(train_df,dev_df,test_df)"
      ],
      "metadata": {
        "id": "Qmhf3wrh52jz"
      },
      "execution_count": 6,
      "outputs": []
    },
    {
      "cell_type": "code",
      "source": [
        "# extract the train and dev data for later use\n",
        "train_sentences = data_all[\"train_text\"]\n",
        "dev_sentences = data_all[\"dev_text\"]\n",
        "\n",
        "train_labels = data_all[\"train_label\"]\n",
        "dev_labels = data_all[\"dev_label\"]"
      ],
      "metadata": {
        "id": "e26mayfKwFLr"
      },
      "execution_count": 7,
      "outputs": []
    },
    {
      "cell_type": "markdown",
      "source": [
        "## 2.3 Character, position, and token embeddings"
      ],
      "metadata": {
        "id": "eX3W5JiIiEOp"
      }
    },
    {
      "cell_type": "markdown",
      "source": [
        "In this section, we construct the character, position, and token embeddings for the train data."
      ],
      "metadata": {
        "id": "JrxjxQWdySz7"
      }
    },
    {
      "cell_type": "code",
      "source": [
        "from tensorflow.keras.layers import TextVectorization"
      ],
      "metadata": {
        "id": "tr5MWR0E08Qo"
      },
      "execution_count": 8,
      "outputs": []
    },
    {
      "cell_type": "markdown",
      "source": [
        "### 2.3.1 Character embedding"
      ],
      "metadata": {
        "id": "zL2awOBYiMBU"
      }
    },
    {
      "cell_type": "markdown",
      "source": [
        "Let's build our character embedding. The construction process is similar to that of the customized token embedding in **notebook 01**. First, let's observe the distribution of the character lengths for our train sentences."
      ],
      "metadata": {
        "id": "wA5m4XPcvczj"
      }
    },
    {
      "cell_type": "code",
      "source": [
        "train_chars = [\" \".join(list(sentence)) for sentence in train_sentences]\n",
        "\n",
        "# create the dev_chars for later use\n",
        "dev_chars = [\" \".join(list(sentence)) for sentence in dev_sentences]\n",
        "\n",
        "char_lens = [len(sentence) for sentence in train_sentences]"
      ],
      "metadata": {
        "id": "wmsYxpSZwDOi"
      },
      "execution_count": 9,
      "outputs": []
    },
    {
      "cell_type": "code",
      "source": [
        "char_Percentile95 = int(np.percentile(char_lens, 95))\n",
        "\n",
        "height_ = 12e4\n",
        "\n",
        "plt.hist(char_lens, bins=9, color = \"forestgreen\")\n",
        "plt.vlines(char_Percentile95,\n",
        "           ymin = 0, ymax = height_,\n",
        "           color = \"red\", linewidth = 2.0, linestyle = \"--\",\n",
        "           label = f\"95 percentile ({char_Percentile95})\")\n",
        "plt.xlabel(\"length of sentences (char)\")\n",
        "plt.ylabel(\"number of sentences\")\n",
        "plt.title(\"Distribution of the lengths (char) of train sentences\")\n",
        "plt.legend()\n",
        "plt.show();"
      ],
      "metadata": {
        "colab": {
          "base_uri": "https://localhost:8080/",
          "height": 472
        },
        "id": "qc0U4hp2vKzX",
        "outputId": "a56b4791-5a83-42a9-9068-6ce6f6f7a1a5"
      },
      "execution_count": 10,
      "outputs": [
        {
          "output_type": "display_data",
          "data": {
            "text/plain": [
              "<Figure size 640x480 with 1 Axes>"
            ],
            "image/png": "[encoded data removed]"
          },
          "metadata": {}
        }
      ]
    },
    {
      "cell_type": "markdown",
      "source": [
        "So, an output character vectorization of dimension 290 is reasonable to construct our character embedding."
      ],
      "metadata": {
        "id": "LZwCLW9dyFAa"
      }
    },
    {
      "cell_type": "markdown",
      "source": [
        "What about the maximum number of character token? Here, I will let the `TextVectorization` help me to find this out. For fast processing, let's just set the `standardize` parameter to `'strip_punctuation'`."
      ],
      "metadata": {
        "id": "urlUh1hMy-I3"
      }
    },
    {
      "cell_type": "code",
      "source": [
        "char_vectorizer = TextVectorization(standardize = 'strip_punctuation',\n",
        "                                    output_sequence_length=char_Percentile95,\n",
        "                                    name=\"char_vectorizer\")\n",
        "char_vectorizer.adapt(train_chars)"
      ],
      "metadata": {
        "id": "QmiGHMOUyRNY"
      },
      "execution_count": 11,
      "outputs": []
    },
    {
      "cell_type": "code",
      "source": [
        "char_vocab = char_vectorizer.get_vocabulary()\n",
        "print(f\"number of unique characters: {len(char_vocab)}\")"
      ],
      "metadata": {
        "colab": {
          "base_uri": "https://localhost:8080/"
        },
        "id": "rTOkPNqk1MW8",
        "outputId": "09301b7c-5c75-40b3-d02a-9797c04d041a"
      },
      "execution_count": 12,
      "outputs": [
        {
          "output_type": "stream",
          "name": "stdout",
          "text": [
            "number of unique characters: 28\n"
          ]
        }
      ]
    },
    {
      "cell_type": "markdown",
      "source": [
        "So, we have a total of 28 unique characters."
      ],
      "metadata": {
        "id": "FInXN4oN39Ts"
      }
    },
    {
      "cell_type": "code",
      "source": [
        "# build the character embedding layer for later use\n",
        "char_embed = tf.keras.layers.Embedding(input_dim=len(char_vocab),\n",
        "                              output_dim=len(char_vocab),\n",
        "                              mask_zero=False,\n",
        "                              name=\"char_embed\")"
      ],
      "metadata": {
        "id": "wZbjG3yf3zCY"
      },
      "execution_count": 13,
      "outputs": []
    },
    {
      "cell_type": "markdown",
      "source": [
        "### 2.3.2 Positional embedding"
      ],
      "metadata": {
        "id": "o88VvkE3iTci"
      }
    },
    {
      "cell_type": "markdown",
      "source": [
        "Next, let's build our positional embedding. Again, let's observe the distribution of the train sentences' `line_number`."
      ],
      "metadata": {
        "id": "V14CqRZa2lrK"
      }
    },
    {
      "cell_type": "code",
      "source": [
        "pos_Percentile95 = int(np.percentile(train_df[\"line_number\"], 95))\n",
        "\n",
        "height_ = 63e3\n",
        "\n",
        "plt.hist(train_df[\"line_number\"], bins=9, color = \"forestgreen\")\n",
        "plt.vlines(pos_Percentile95,\n",
        "           ymin = 0, ymax = height_,\n",
        "           color = \"red\", linewidth = 2.0, linestyle = \"--\",\n",
        "           label = f\"95 percentile ({pos_Percentile95})\")\n",
        "plt.xlabel(\"line number\")\n",
        "plt.ylabel(\"number of sentences\")\n",
        "plt.title(\"Distribution of line number of train sentences\")\n",
        "plt.legend()\n",
        "plt.show();"
      ],
      "metadata": {
        "colab": {
          "base_uri": "https://localhost:8080/",
          "height": 472
        },
        "id": "l0YYSGSU2qdY",
        "outputId": "3f44dd56-05d0-4556-bb69-c4c9a57b6be7"
      },
      "execution_count": 14,
      "outputs": [
        {
          "output_type": "display_data",
          "data": {
            "text/plain": [
              "<Figure size 640x480 with 1 Axes>"
            ],
            "image/png": "[encoded data removed]"
          },
          "metadata": {}
        }
      ]
    },
    {
      "cell_type": "code",
      "source": [
        "# create one_hot encoding for the position / line number\n",
        "train_pos_one_hot = tf.one_hot(train_df[\"line_number\"].to_numpy(), depth=pos_Percentile95)\n",
        "dev_pos_one_hot = tf.one_hot(dev_df[\"line_number\"].to_numpy(), depth=pos_Percentile95)\n",
        "test_pos_one_hot = tf.one_hot(test_df[\"line_number\"].to_numpy(), depth=pos_Percentile95)"
      ],
      "metadata": {
        "id": "hNBUD3n45kLz"
      },
      "execution_count": 15,
      "outputs": []
    },
    {
      "cell_type": "code",
      "source": [
        "print(train_pos_one_hot)"
      ],
      "metadata": {
        "colab": {
          "base_uri": "https://localhost:8080/"
        },
        "id": "78-bEgpbD512",
        "outputId": "71faf3c2-03b0-48a0-e2d8-050a83647f92"
      },
      "execution_count": 16,
      "outputs": [
        {
          "output_type": "stream",
          "name": "stdout",
          "text": [
            "tf.Tensor(\n",
            "[[1. 0. 0. ... 0. 0. 0.]\n",
            " [0. 1. 0. ... 0. 0. 0.]\n",
            " [0. 0. 1. ... 0. 0. 0.]\n",
            " ...\n",
            " [0. 0. 0. ... 0. 0. 0.]\n",
            " [0. 0. 0. ... 1. 0. 0.]\n",
            " [0. 0. 0. ... 0. 1. 0.]], shape=(180040, 13), dtype=float32)\n"
          ]
        }
      ]
    },
    {
      "cell_type": "markdown",
      "source": [
        "### 2.3.3 token embedding"
      ],
      "metadata": {
        "id": "d-_MZS3TiXgM"
      }
    },
    {
      "cell_type": "markdown",
      "source": [
        "As in **notebook 01**, let's use the `universal sentence encoder` as our token embedding layer."
      ],
      "metadata": {
        "id": "v8adPGXQ-wH4"
      }
    },
    {
      "cell_type": "code",
      "source": [
        "import tensorflow_hub as hub\n",
        "tf_hub_USE_embed_layer = hub.KerasLayer(\"https://tfhub.dev/google/universal-sentence-encoder/4\",\n",
        "                                        trainable=False,\n",
        "                                        name=\"universal_sentence_encoder\")"
      ],
      "metadata": {
        "id": "b115N4FRiLoH"
      },
      "execution_count": 17,
      "outputs": []
    },
    {
      "cell_type": "markdown",
      "source": [
        "### 2.3.4 Batch data for token, character, and positional embeddings"
      ],
      "metadata": {
        "id": "J4-T-1GaIrSQ"
      }
    },
    {
      "cell_type": "code",
      "source": [
        "train_pos_char_token_data = tf.data.Dataset.from_tensor_slices((train_sentences, train_chars,train_pos_one_hot))\n",
        "train_pos_char_token_labels = tf.data.Dataset.from_tensor_slices(train_labels)\n",
        "train_pos_char_token_dataset = tf.data.Dataset.zip((train_pos_char_token_data, train_pos_char_token_labels))\n",
        "train_pos_char_token_dataset = train_pos_char_token_dataset.batch(32).prefetch(tf.data.AUTOTUNE)\n",
        "\n",
        "dev_pos_char_token_data = tf.data.Dataset.from_tensor_slices((dev_sentences,dev_chars,dev_pos_one_hot))\n",
        "dev_pos_char_token_labels = tf.data.Dataset.from_tensor_slices(dev_labels)\n",
        "dev_pos_char_token_dataset = tf.data.Dataset.zip((dev_pos_char_token_data, dev_pos_char_token_labels))\n",
        "dev_pos_char_token_dataset = dev_pos_char_token_dataset.batch(32).prefetch(tf.data.AUTOTUNE)\n",
        "\n",
        "train_pos_char_token_dataset, dev_pos_char_token_dataset"
      ],
      "metadata": {
        "colab": {
          "base_uri": "https://localhost:8080/"
        },
        "id": "uCwT4pRqIyei",
        "outputId": "31d26a1e-3154-44a3-9340-2399fe0b5bed"
      },
      "execution_count": 18,
      "outputs": [
        {
          "output_type": "execute_result",
          "data": {
            "text/plain": [
              "(<_PrefetchDataset element_spec=((TensorSpec(shape=(None,), dtype=tf.string, name=None), TensorSpec(shape=(None,), dtype=tf.string, name=None), TensorSpec(shape=(None, 13), dtype=tf.float32, name=None)), TensorSpec(shape=(None, 5), dtype=tf.float64, name=None))>,\n",
              " <_PrefetchDataset element_spec=((TensorSpec(shape=(None,), dtype=tf.string, name=None), TensorSpec(shape=(None,), dtype=tf.string, name=None), TensorSpec(shape=(None, 13), dtype=tf.float32, name=None)), TensorSpec(shape=(None, 5), dtype=tf.float64, name=None))>)"
            ]
          },
          "metadata": {},
          "execution_count": 18
        }
      ]
    },
    {
      "cell_type": "markdown",
      "source": [
        "## 2.4 Experiments on RNN models"
      ],
      "metadata": {
        "id": "j8bZ3tKIia9y"
      }
    },
    {
      "cell_type": "markdown",
      "source": [
        "In this section, we'll build an LSTM and a GRU model each employs token, character, and position embeddings."
      ],
      "metadata": {
        "id": "TFZgCwKXI1_W"
      }
    },
    {
      "cell_type": "markdown",
      "source": [
        "### 2.4.1 Model_LSTM: multiple embeddings with LSTM"
      ],
      "metadata": {
        "id": "evMs4W9YieN8"
      }
    },
    {
      "cell_type": "markdown",
      "source": [
        "Our model is a concatenation of three models, one for each token, character, and position embeddings. More specifically, the three models are\n",
        "\n",
        "1.  Token model: from **notebook 01**, we have seen that the `universal sentence encoder` works well with a dense model. Hence, for the token embedding, we'll continue use a dense model.\n",
        "2.  Character model: we'll use a bidirectional LSTM model as the orders of characters are important features in a sentence.\n",
        "3. Position model: we'll use a simple dense model."
      ],
      "metadata": {
        "id": "uYeMjuYqL1rP"
      }
    },
    {
      "cell_type": "code",
      "source": [
        "# token model\n",
        "token_USE_input = tf.keras.layers.Input(shape=[], dtype=\"string\", name=\"token_input\")\n",
        "token_USE_embed = tf_hub_USE_embed_layer(token_USE_input)\n",
        "token_output = tf.keras.layers.Dense(64, activation=\"relu\")(token_USE_embed)\n",
        "token_model = tf.keras.Model(inputs=token_USE_input, outputs=token_output)\n",
        "\n",
        "# char model with bidirectional LSTM\n",
        "char_input = tf.keras.layers.Input(shape=[1,], dtype=\"string\", name=\"char_input\")\n",
        "char_vecs = char_vectorizer(char_input)\n",
        "char_embeds = char_embed(char_vecs)\n",
        "char_bi_lstm = tf.keras.layers.Bidirectional(tf.keras.layers.LSTM(16))(char_embeds)\n",
        "char_model = tf.keras.Model(inputs=char_input, outputs=char_bi_lstm)\n",
        "\n",
        "# position model\n",
        "pos_input = tf.keras.layers.Input(shape=[pos_Percentile95,], dtype=tf.int32, name=\"pos_input\")\n",
        "x = tf.keras.layers.Dense(16, activation=\"relu\")(pos_input)\n",
        "pos_model = tf.keras.Model(inputs=pos_input,outputs=x)\n",
        "\n",
        "# concatenate token and char models\n",
        "token_and_char = tf.keras.layers.Concatenate(name=\"token_and_char\")([token_model.output,\n",
        "                                                                     char_model.output])\n",
        "\n",
        "y = tf.keras.layers.Dense(32, activation=\"relu\")(token_and_char)\n",
        "y = tf.keras.layers.Dropout(0.5)(y) # regularize for better result\n",
        "\n",
        "# concatenate with position model\n",
        "y = tf.keras.layers.Concatenate(name=\"token_char_pos\")([pos_model.output,y])\n",
        "\n",
        "# recall that we have 5 classes\n",
        "output = tf.keras.layers.Dense(5, activation=\"softmax\", name=\"output\")(y)\n",
        "\n",
        "model_LSTM = tf.keras.Model(inputs=[token_model.input, char_model.input,pos_model.input],\n",
        "                            outputs=output, name = \"model_LSTM\")"
      ],
      "metadata": {
        "id": "z2HsNoXA6zIu"
      },
      "execution_count": 33,
      "outputs": []
    },
    {
      "cell_type": "code",
      "source": [
        "model_LSTM.compile(loss=tf.keras.losses.CategoricalCrossentropy(),\n",
        "                   optimizer=tf.keras.optimizers.Adam(),\n",
        "                   metrics=[\"accuracy\"])"
      ],
      "metadata": {
        "id": "b4n6q1CLAc51"
      },
      "execution_count": 34,
      "outputs": []
    },
    {
      "cell_type": "code",
      "source": [
        "model_LSTM.summary()"
      ],
      "metadata": {
        "colab": {
          "base_uri": "https://localhost:8080/"
        },
        "id": "EwahVFlHaf6e",
        "outputId": "76072ef9-d227-4e98-8e1b-f68c8ec6eef7"
      },
      "execution_count": 35,
      "outputs": [
        {
          "output_type": "stream",
          "name": "stdout",
          "text": [
            "Model: \"model_LSTM\"\n",
            "__________________________________________________________________________________________________\n",
            " Layer (type)                Output Shape                 Param #   Connected to                  \n",
            "==================================================================================================\n",
            " char_input (InputLayer)     [(None, 1)]                  0         []                            \n",
            "                                                                                                  \n",
            " token_input (InputLayer)    [(None,)]                    0         []                            \n",
            "                                                                                                  \n",
            " char_vectorizer (TextVecto  (None, 290)                  0         ['char_input[0][0]']          \n",
            " rization)                                                                                        \n",
            "                                                                                                  \n",
            " universal_sentence_encoder  (None, 512)                  2567978   ['token_input[0][0]']         \n",
            "  (KerasLayer)                                            24                                      \n",
            "                                                                                                  \n",
            " char_embed (Embedding)      (None, 290, 28)              784       ['char_vectorizer[2][0]']     \n",
            "                                                                                                  \n",
            " dense_6 (Dense)             (None, 64)                   32832     ['universal_sentence_encoder[2\n",
            "                                                                    ][0]']                        \n",
            "                                                                                                  \n",
            " bidirectional_2 (Bidirecti  (None, 32)                   5760      ['char_embed[2][0]']          \n",
            " onal)                                                                                            \n",
            "                                                                                                  \n",
            " token_and_char (Concatenat  (None, 96)                   0         ['dense_6[0][0]',             \n",
            " e)                                                                  'bidirectional_2[0][0]']     \n",
            "                                                                                                  \n",
            " pos_input (InputLayer)      [(None, 13)]                 0         []                            \n",
            "                                                                                                  \n",
            " dense_8 (Dense)             (None, 32)                   3104      ['token_and_char[0][0]']      \n",
            "                                                                                                  \n",
            " dense_7 (Dense)             (None, 16)                   224       ['pos_input[0][0]']           \n",
            "                                                                                                  \n",
            " dropout_2 (Dropout)         (None, 32)                   0         ['dense_8[0][0]']             \n",
            "                                                                                                  \n",
            " token_char_pos (Concatenat  (None, 48)                   0         ['dense_7[0][0]',             \n",
            " e)                                                                  'dropout_2[0][0]']           \n",
            "                                                                                                  \n",
            " output (Dense)              (None, 5)                    245       ['token_char_pos[0][0]']      \n",
            "                                                                                                  \n",
            "==================================================================================================\n",
            "Total params: 256840773 (979.77 MB)\n",
            "Trainable params: 42949 (167.77 KB)\n",
            "Non-trainable params: 256797824 (979.61 MB)\n",
            "__________________________________________________________________________________________________\n"
          ]
        }
      ]
    },
    {
      "cell_type": "markdown",
      "source": [
        "Let's see the model in a picture."
      ],
      "metadata": {
        "id": "jxVeNPYwOADX"
      }
    },
    {
      "cell_type": "code",
      "source": [
        "plot_model(model_LSTM, to_file='model_LSTM.png')"
      ],
      "metadata": {
        "colab": {
          "base_uri": "https://localhost:8080/",
          "height": 856
        },
        "id": "mAkOXFr4_J7k",
        "outputId": "916c7ec4-4bd2-4c35-987b-b6b00c5c3e0e"
      },
      "execution_count": 20,
      "outputs": [
        {
          "output_type": "execute_result",
          "data": {
            "image/png": "[encoded data removed]",
            "text/plain": [
              "<IPython.core.display.Image object>"
            ]
          },
          "metadata": {},
          "execution_count": 20
        }
      ]
    },
    {
      "cell_type": "markdown",
      "source": [
        "Now, let's see how this model performs on our classification task. During the training, let me only validate the fitted model on $10\\%$ of our dev data for faster computation."
      ],
      "metadata": {
        "id": "Zg7nRJ7FJRCG"
      }
    },
    {
      "cell_type": "code",
      "source": [
        "history_model_LSTM = model_LSTM.fit(train_pos_char_token_dataset,\n",
        "                                    steps_per_epoch=len(train_pos_char_token_dataset),\n",
        "                                    epochs=6,\n",
        "                                    validation_data=dev_pos_char_token_dataset,\n",
        "                                    validation_steps=int(0.1*len(dev_pos_char_token_dataset)))"
      ],
      "metadata": {
        "colab": {
          "base_uri": "https://localhost:8080/"
        },
        "id": "NLnI3KjiASU5",
        "outputId": "73043ee1-fab2-4c3e-df9b-e309d4895bd7"
      },
      "execution_count": 22,
      "outputs": [
        {
          "output_type": "stream",
          "name": "stdout",
          "text": [
            "Epoch 1/6\n",
            "5627/5627 [==============================] - 200s 33ms/step - loss: 0.5805 - accuracy: 0.7789 - val_loss: 0.4502 - val_accuracy: 0.8275\n",
            "Epoch 2/6\n",
            "5627/5627 [==============================] - 173s 31ms/step - loss: 0.4730 - accuracy: 0.8199 - val_loss: 0.4303 - val_accuracy: 0.8368\n",
            "Epoch 3/6\n",
            "5627/5627 [==============================] - 169s 30ms/step - loss: 0.4526 - accuracy: 0.8282 - val_loss: 0.4154 - val_accuracy: 0.8374\n",
            "Epoch 4/6\n",
            "5627/5627 [==============================] - 177s 31ms/step - loss: 0.4379 - accuracy: 0.8353 - val_loss: 0.4147 - val_accuracy: 0.8378\n",
            "Epoch 5/6\n",
            "5627/5627 [==============================] - 178s 32ms/step - loss: 0.4252 - accuracy: 0.8399 - val_loss: 0.4135 - val_accuracy: 0.8411\n",
            "Epoch 6/6\n",
            "5627/5627 [==============================] - 178s 32ms/step - loss: 0.4168 - accuracy: 0.8432 - val_loss: 0.4155 - val_accuracy: 0.8441\n"
          ]
        }
      ]
    },
    {
      "cell_type": "code",
      "source": [
        "plot_loss_and_accuracy(history_model_LSTM)"
      ],
      "metadata": {
        "id": "_7hqRH1iKS1e",
        "colab": {
          "base_uri": "https://localhost:8080/",
          "height": 507
        },
        "outputId": "955b89a6-8f7a-4318-afe3-e8894900bed4"
      },
      "execution_count": 23,
      "outputs": [
        {
          "output_type": "display_data",
          "data": {
            "text/plain": [
              "<Figure size 1200x500 with 2 Axes>"
            ],
            "image/png": "[encoded data removed]"
          },
          "metadata": {}
        }
      ]
    },
    {
      "cell_type": "markdown",
      "source": [
        "From the above plots, we see that our model may start to overfit the training data at epoch 7 if we had continued training. For the purpose of this practice project, let me just stop here at epoch 6. Recall that during the training, we only validated on $10\\%$ of the development data. Let's see how the model performs on the full development set."
      ],
      "metadata": {
        "id": "kBioxyZxX1F5"
      }
    },
    {
      "cell_type": "code",
      "source": [
        "model_LSTM_pred_probs = model_LSTM.predict(dev_pos_char_token_dataset, verbose=1)\n",
        "\n",
        "model_LSTM_preds = tf.argmax(model_LSTM_pred_probs, axis=1).numpy()\n",
        "\n",
        "print(model_LSTM_preds)"
      ],
      "metadata": {
        "id": "jwMG2iDLFy4_",
        "colab": {
          "base_uri": "https://localhost:8080/"
        },
        "outputId": "3c45cdab-6684-4737-c2b2-e06c509eb59c"
      },
      "execution_count": 24,
      "outputs": [
        {
          "output_type": "stream",
          "name": "stdout",
          "text": [
            "945/945 [==============================] - 18s 18ms/step\n",
            "[0 0 0 ... 4 4 1]\n"
          ]
        }
      ]
    },
    {
      "cell_type": "code",
      "source": [
        "model_LSTM_results = perform_evaluations(y_true=label_Encoded[\"dev_label\"],\n",
        "                                         y_pred=model_LSTM_preds, model_name = \"model_LSTM\")\n",
        "\n",
        "model_LSTM_results_df = pd.DataFrame(model_LSTM_results)\n",
        "\n",
        "model_LSTM_results_df"
      ],
      "metadata": {
        "id": "Fw9V7oX6F6mo",
        "colab": {
          "base_uri": "https://localhost:8080/",
          "height": 175
        },
        "outputId": "8ba0c22d-9047-492b-85c0-668e4ecb3be6"
      },
      "execution_count": 25,
      "outputs": [
        {
          "output_type": "execute_result",
          "data": {
            "text/plain": [
              "      Metric  model_LSTM\n",
              "0   Accuracy       84.50\n",
              "1  Precision       85.16\n",
              "2     Recall       84.50\n",
              "3   F1-score       84.13"
            ],
            "text/html": [
              "\n",
              "  <div id=\"df-8e07d348-c78b-465f-a396-5614bcfaf87f\" class=\"colab-df-container\">\n",
              "    <div>\n",
              "<style scoped>\n",
              "    .dataframe tbody tr th:only-of-type {\n",
              "        vertical-align: middle;\n",
              "    }\n",
              "\n",
              "    .dataframe tbody tr th {\n",
              "        vertical-align: top;\n",
              "    }\n",
              "\n",
              "    .dataframe thead th {\n",
              "        text-align: right;\n",
              "    }\n",
              "</style>\n",
              "<table border=\"1\" class=\"dataframe\">\n",
              "  <thead>\n",
              "    <tr style=\"text-align: right;\">\n",
              "      <th></th>\n",
              "      <th>Metric</th>\n",
              "      <th>model_LSTM</th>\n",
              "    </tr>\n",
              "  </thead>\n",
              "  <tbody>\n",
              "    <tr>\n",
              "      <th>0</th>\n",
              "      <td>Accuracy</td>\n",
              "      <td>84.50</td>\n",
              "    </tr>\n",
              "    <tr>\n",
              "      <th>1</th>\n",
              "      <td>Precision</td>\n",
              "      <td>85.16</td>\n",
              "    </tr>\n",
              "    <tr>\n",
              "      <th>2</th>\n",
              "      <td>Recall</td>\n",
              "      <td>84.50</td>\n",
              "    </tr>\n",
              "    <tr>\n",
              "      <th>3</th>\n",
              "      <td>F1-score</td>\n",
              "      <td>84.13</td>\n",
              "    </tr>\n",
              "  </tbody>\n",
              "</table>\n",
              "</div>\n",
              "    <div class=\"colab-df-buttons\">\n",
              "\n",
              "  <div class=\"colab-df-container\">\n",
              "    <button class=\"colab-df-convert\" onclick=\"convertToInteractive('df-8e07d348-c78b-465f-a396-5614bcfaf87f')\"\n",
              "            title=\"Convert this dataframe to an interactive table.\"\n",
              "            style=\"display:none;\">\n",
              "\n",
              "  <svg xmlns=\"http://www.w3.org/2000/svg\" height=\"24px\" viewBox=\"0 -960 960 960\">\n",
              "    <path d=\"M120-120v-720h720v720H120Zm60-500h600v-160H180v160Zm220 220h160v-160H400v160Zm0 220h160v-160H400v160ZM180-400h160v-160H180v160Zm440 0h160v-160H620v160ZM180-180h160v-160H180v160Zm440 0h160v-160H620v160Z\"/>\n",
              "  </svg>\n",
              "    </button>\n",
              "\n",
              "  <style>\n",
              "    .colab-df-container {\n",
              "      display:flex;\n",
              "      gap: 12px;\n",
              "    }\n",
              "\n",
              "    .colab-df-convert {\n",
              "      background-color: #E8F0FE;\n",
              "      border: none;\n",
              "      border-radius: 50%;\n",
              "      cursor: pointer;\n",
              "      display: none;\n",
              "      fill: #1967D2;\n",
              "      height: 32px;\n",
              "      padding: 0 0 0 0;\n",
              "      width: 32px;\n",
              "    }\n",
              "\n",
              "    .colab-df-convert:hover {\n",
              "      background-color: #E2EBFA;\n",
              "      box-shadow: 0px 1px 2px rgba(60, 64, 67, 0.3), 0px 1px 3px 1px rgba(60, 64, 67, 0.15);\n",
              "      fill: #174EA6;\n",
              "    }\n",
              "\n",
              "    .colab-df-buttons div {\n",
              "      margin-bottom: 4px;\n",
              "    }\n",
              "\n",
              "    [theme=dark] .colab-df-convert {\n",
              "      background-color: #3B4455;\n",
              "      fill: #D2E3FC;\n",
              "    }\n",
              "\n",
              "    [theme=dark] .colab-df-convert:hover {\n",
              "      background-color: #434B5C;\n",
              "      box-shadow: 0px 1px 3px 1px rgba(0, 0, 0, 0.15);\n",
              "      filter: drop-shadow(0px 1px 2px rgba(0, 0, 0, 0.3));\n",
              "      fill: #FFFFFF;\n",
              "    }\n",
              "  </style>\n",
              "\n",
              "    <script>\n",
              "      const buttonEl =\n",
              "        document.querySelector('#df-8e07d348-c78b-465f-a396-5614bcfaf87f button.colab-df-convert');\n",
              "      buttonEl.style.display =\n",
              "        google.colab.kernel.accessAllowed ? 'block' : 'none';\n",
              "\n",
              "      async function convertToInteractive(key) {\n",
              "        const element = document.querySelector('#df-8e07d348-c78b-465f-a396-5614bcfaf87f');\n",
              "        const dataTable =\n",
              "          await google.colab.kernel.invokeFunction('convertToInteractive',\n",
              "                                                    [key], {});\n",
              "        if (!dataTable) return;\n",
              "\n",
              "        const docLinkHtml = 'Like what you see? Visit the ' +\n",
              "          '<a target=\"_blank\" href=https://colab.research.google.com/notebooks/data_table.ipynb>data table notebook</a>'\n",
              "          + ' to learn more about interactive tables.';\n",
              "        element.innerHTML = '';\n",
              "        dataTable['output_type'] = 'display_data';\n",
              "        await google.colab.output.renderOutput(dataTable, element);\n",
              "        const docLink = document.createElement('div');\n",
              "        docLink.innerHTML = docLinkHtml;\n",
              "        element.appendChild(docLink);\n",
              "      }\n",
              "    </script>\n",
              "  </div>\n",
              "\n",
              "\n",
              "<div id=\"df-e221537d-fa40-4972-8217-f3e2351c639c\">\n",
              "  <button class=\"colab-df-quickchart\" onclick=\"quickchart('df-e221537d-fa40-4972-8217-f3e2351c639c')\"\n",
              "            title=\"Suggest charts\"\n",
              "            style=\"display:none;\">\n",
              "\n",
              "<svg xmlns=\"http://www.w3.org/2000/svg\" height=\"24px\"viewBox=\"0 0 24 24\"\n",
              "     width=\"24px\">\n",
              "    <g>\n",
              "        <path d=\"M19 3H5c-1.1 0-2 .9-2 2v14c0 1.1.9 2 2 2h14c1.1 0 2-.9 2-2V5c0-1.1-.9-2-2-2zM9 17H7v-7h2v7zm4 0h-2V7h2v10zm4 0h-2v-4h2v4z\"/>\n",
              "    </g>\n",
              "</svg>\n",
              "  </button>\n",
              "\n",
              "<style>\n",
              "  .colab-df-quickchart {\n",
              "      --bg-color: #E8F0FE;\n",
              "      --fill-color: #1967D2;\n",
              "      --hover-bg-color: #E2EBFA;\n",
              "      --hover-fill-color: #174EA6;\n",
              "      --disabled-fill-color: #AAA;\n",
              "      --disabled-bg-color: #DDD;\n",
              "  }\n",
              "\n",
              "  [theme=dark] .colab-df-quickchart {\n",
              "      --bg-color: #3B4455;\n",
              "      --fill-color: #D2E3FC;\n",
              "      --hover-bg-color: #434B5C;\n",
              "      --hover-fill-color: #FFFFFF;\n",
              "      --disabled-bg-color: #3B4455;\n",
              "      --disabled-fill-color: #666;\n",
              "  }\n",
              "\n",
              "  .colab-df-quickchart {\n",
              "    background-color: var(--bg-color);\n",
              "    border: none;\n",
              "    border-radius: 50%;\n",
              "    cursor: pointer;\n",
              "    display: none;\n",
              "    fill: var(--fill-color);\n",
              "    height: 32px;\n",
              "    padding: 0;\n",
              "    width: 32px;\n",
              "  }\n",
              "\n",
              "  .colab-df-quickchart:hover {\n",
              "    background-color: var(--hover-bg-color);\n",
              "    box-shadow: 0 1px 2px rgba(60, 64, 67, 0.3), 0 1px 3px 1px rgba(60, 64, 67, 0.15);\n",
              "    fill: var(--button-hover-fill-color);\n",
              "  }\n",
              "\n",
              "  .colab-df-quickchart-complete:disabled,\n",
              "  .colab-df-quickchart-complete:disabled:hover {\n",
              "    background-color: var(--disabled-bg-color);\n",
              "    fill: var(--disabled-fill-color);\n",
              "    box-shadow: none;\n",
              "  }\n",
              "\n",
              "  .colab-df-spinner {\n",
              "    border: 2px solid var(--fill-color);\n",
              "    border-color: transparent;\n",
              "    border-bottom-color: var(--fill-color);\n",
              "    animation:\n",
              "      spin 1s steps(1) infinite;\n",
              "  }\n",
              "\n",
              "  @keyframes spin {\n",
              "    0% {\n",
              "      border-color: transparent;\n",
              "      border-bottom-color: var(--fill-color);\n",
              "      border-left-color: var(--fill-color);\n",
              "    }\n",
              "    20% {\n",
              "      border-color: transparent;\n",
              "      border-left-color: var(--fill-color);\n",
              "      border-top-color: var(--fill-color);\n",
              "    }\n",
              "    30% {\n",
              "      border-color: transparent;\n",
              "      border-left-color: var(--fill-color);\n",
              "      border-top-color: var(--fill-color);\n",
              "      border-right-color: var(--fill-color);\n",
              "    }\n",
              "    40% {\n",
              "      border-color: transparent;\n",
              "      border-right-color: var(--fill-color);\n",
              "      border-top-color: var(--fill-color);\n",
              "    }\n",
              "    60% {\n",
              "      border-color: transparent;\n",
              "      border-right-color: var(--fill-color);\n",
              "    }\n",
              "    80% {\n",
              "      border-color: transparent;\n",
              "      border-right-color: var(--fill-color);\n",
              "      border-bottom-color: var(--fill-color);\n",
              "    }\n",
              "    90% {\n",
              "      border-color: transparent;\n",
              "      border-bottom-color: var(--fill-color);\n",
              "    }\n",
              "  }\n",
              "</style>\n",
              "\n",
              "  <script>\n",
              "    async function quickchart(key) {\n",
              "      const quickchartButtonEl =\n",
              "        document.querySelector('#' + key + ' button');\n",
              "      quickchartButtonEl.disabled = true;  // To prevent multiple clicks.\n",
              "      quickchartButtonEl.classList.add('colab-df-spinner');\n",
              "      try {\n",
              "        const charts = await google.colab.kernel.invokeFunction(\n",
              "            'suggestCharts', [key], {});\n",
              "      } catch (error) {\n",
              "        console.error('Error during call to suggestCharts:', error);\n",
              "      }\n",
              "      quickchartButtonEl.classList.remove('colab-df-spinner');\n",
              "      quickchartButtonEl.classList.add('colab-df-quickchart-complete');\n",
              "    }\n",
              "    (() => {\n",
              "      let quickchartButtonEl =\n",
              "        document.querySelector('#df-e221537d-fa40-4972-8217-f3e2351c639c button');\n",
              "      quickchartButtonEl.style.display =\n",
              "        google.colab.kernel.accessAllowed ? 'block' : 'none';\n",
              "    })();\n",
              "  </script>\n",
              "</div>\n",
              "\n",
              "  <div id=\"id_2d6d66c7-b9c9-47d3-b342-c06069352486\">\n",
              "    <style>\n",
              "      .colab-df-generate {\n",
              "        background-color: #E8F0FE;\n",
              "        border: none;\n",
              "        border-radius: 50%;\n",
              "        cursor: pointer;\n",
              "        display: none;\n",
              "        fill: #1967D2;\n",
              "        height: 32px;\n",
              "        padding: 0 0 0 0;\n",
              "        width: 32px;\n",
              "      }\n",
              "\n",
              "      .colab-df-generate:hover {\n",
              "        background-color: #E2EBFA;\n",
              "        box-shadow: 0px 1px 2px rgba(60, 64, 67, 0.3), 0px 1px 3px 1px rgba(60, 64, 67, 0.15);\n",
              "        fill: #174EA6;\n",
              "      }\n",
              "\n",
              "      [theme=dark] .colab-df-generate {\n",
              "        background-color: #3B4455;\n",
              "        fill: #D2E3FC;\n",
              "      }\n",
              "\n",
              "      [theme=dark] .colab-df-generate:hover {\n",
              "        background-color: #434B5C;\n",
              "        box-shadow: 0px 1px 3px 1px rgba(0, 0, 0, 0.15);\n",
              "        filter: drop-shadow(0px 1px 2px rgba(0, 0, 0, 0.3));\n",
              "        fill: #FFFFFF;\n",
              "      }\n",
              "    </style>\n",
              "    <button class=\"colab-df-generate\" onclick=\"generateWithVariable('model_LSTM_results_df')\"\n",
              "            title=\"Generate code using this dataframe.\"\n",
              "            style=\"display:none;\">\n",
              "\n",
              "  <svg xmlns=\"http://www.w3.org/2000/svg\" height=\"24px\"viewBox=\"0 0 24 24\"\n",
              "       width=\"24px\">\n",
              "    <path d=\"M7,19H8.4L18.45,9,17,7.55,7,17.6ZM5,21V16.75L18.45,3.32a2,2,0,0,1,2.83,0l1.4,1.43a1.91,1.91,0,0,1,.58,1.4,1.91,1.91,0,0,1-.58,1.4L9.25,21ZM18.45,9,17,7.55Zm-12,3A5.31,5.31,0,0,0,4.9,8.1,5.31,5.31,0,0,0,1,6.5,5.31,5.31,0,0,0,4.9,4.9,5.31,5.31,0,0,0,6.5,1,5.31,5.31,0,0,0,8.1,4.9,5.31,5.31,0,0,0,12,6.5,5.46,5.46,0,0,0,6.5,12Z\"/>\n",
              "  </svg>\n",
              "    </button>\n",
              "    <script>\n",
              "      (() => {\n",
              "      const buttonEl =\n",
              "        document.querySelector('#id_2d6d66c7-b9c9-47d3-b342-c06069352486 button.colab-df-generate');\n",
              "      buttonEl.style.display =\n",
              "        google.colab.kernel.accessAllowed ? 'block' : 'none';\n",
              "\n",
              "      buttonEl.onclick = () => {\n",
              "        google.colab.notebook.generateWithVariable('model_LSTM_results_df');\n",
              "      }\n",
              "      })();\n",
              "    </script>\n",
              "  </div>\n",
              "\n",
              "    </div>\n",
              "  </div>\n"
            ],
            "application/vnd.google.colaboratory.intrinsic+json": {
              "type": "dataframe",
              "variable_name": "model_LSTM_results_df",
              "summary": "{\n  \"name\": \"model_LSTM_results_df\",\n  \"rows\": 4,\n  \"fields\": [\n    {\n      \"column\": \"Metric\",\n      \"properties\": {\n        \"dtype\": \"string\",\n        \"num_unique_values\": 4,\n        \"samples\": [\n          \"Precision\",\n          \"F1-score\",\n          \"Accuracy\"\n        ],\n        \"semantic_type\": \"\",\n        \"description\": \"\"\n      }\n    },\n    {\n      \"column\": \"model_LSTM\",\n      \"properties\": {\n        \"dtype\": \"number\",\n        \"std\": 0.4287481778386887,\n        \"min\": 84.13000000000001,\n        \"max\": 85.16,\n        \"num_unique_values\": 3,\n        \"samples\": [\n          84.5,\n          85.16,\n          84.13000000000001\n        ],\n        \"semantic_type\": \"\",\n        \"description\": \"\"\n      }\n    }\n  ]\n}"
            }
          },
          "metadata": {},
          "execution_count": 25
        }
      ]
    },
    {
      "cell_type": "markdown",
      "source": [
        "This is our best model so far!"
      ],
      "metadata": {
        "id": "CZxhrjztYZhB"
      }
    },
    {
      "cell_type": "markdown",
      "source": [
        "### 2.4.2 Model_GRU: multiple embeddings with GRU"
      ],
      "metadata": {
        "id": "lH2KqUD_iscL"
      }
    },
    {
      "cell_type": "markdown",
      "source": [
        "The GRU is a simplified version of LSTM. The GRU runs faster than LSTM and, for most application, yield comparable results to LSTM, which should be the case here. Let's see if this is true."
      ],
      "metadata": {
        "id": "rOyWa9o9LE1E"
      }
    },
    {
      "cell_type": "markdown",
      "source": [
        "We build the same model as with the LSTM case, but this time we replace the LSTM unit with the GRU."
      ],
      "metadata": {
        "id": "uGdLPKTlLd53"
      }
    },
    {
      "cell_type": "code",
      "source": [
        "# token model\n",
        "token_USE_input = tf.keras.layers.Input(shape=[], dtype=\"string\", name=\"token_input\")\n",
        "token_USE_embed = tf_hub_USE_embed_layer(token_USE_input)\n",
        "token_output = tf.keras.layers.Dense(64, activation=\"relu\")(token_USE_embed)\n",
        "token_model = tf.keras.Model(inputs=token_USE_input, outputs=token_output)\n",
        "\n",
        "# char model\n",
        "char_input = tf.keras.layers.Input(shape=[1,], dtype=\"string\", name=\"char_input\")\n",
        "char_vecs = char_vectorizer(char_input)\n",
        "char_embeds = char_embed(char_vecs)\n",
        "char_bi_GRU = tf.keras.layers.Bidirectional(tf.keras.layers.GRU(16))(char_embeds) # replace with GRU\n",
        "char_model = tf.keras.Model(inputs=char_input, outputs=char_bi_GRU)\n",
        "\n",
        "# position model\n",
        "pos_input = tf.keras.layers.Input(shape=[pos_Percentile95,], dtype=tf.int32, name=\"pos_input\")\n",
        "x = tf.keras.layers.Dense(16, activation=\"relu\")(pos_input)\n",
        "pos_model = tf.keras.Model(inputs=pos_input,outputs=x)\n",
        "\n",
        "# concatenate\n",
        "token_and_char = tf.keras.layers.Concatenate(name=\"token_and_char\")([token_model.output,\n",
        "                                                                     char_model.output])\n",
        "y = tf.keras.layers.Dense(32, activation=\"relu\")(token_and_char)\n",
        "y = tf.keras.layers.Dropout(0.5)(y)\n",
        "y = tf.keras.layers.Concatenate(name=\"token_char_pos\")([pos_model.output,y])\n",
        "\n",
        "\n",
        "output = tf.keras.layers.Dense(5, activation=\"softmax\", name=\"output\")(y)\n",
        "\n",
        "\n",
        "model_GRU = tf.keras.Model(inputs=[token_model.input, char_model.input,pos_model.input],\n",
        "                           outputs=output, name = \"model_GRU\")"
      ],
      "metadata": {
        "id": "cn9FyP5-GpYy"
      },
      "execution_count": 26,
      "outputs": []
    },
    {
      "cell_type": "code",
      "source": [
        "model_GRU.compile(loss=tf.keras.losses.CategoricalCrossentropy(),\n",
        "                  optimizer=tf.keras.optimizers.Adam(),\n",
        "                  metrics=[\"accuracy\"])"
      ],
      "metadata": {
        "id": "NC1z2-XzG3EC"
      },
      "execution_count": 27,
      "outputs": []
    },
    {
      "cell_type": "code",
      "source": [
        "history_model_GRU = model_GRU.fit(train_pos_char_token_dataset,\n",
        "                                  steps_per_epoch=len(train_pos_char_token_dataset),\n",
        "                                  epochs=6,\n",
        "                                  validation_data=dev_pos_char_token_dataset,\n",
        "                                  validation_steps=int(0.1*len(dev_pos_char_token_dataset)))"
      ],
      "metadata": {
        "id": "7Je9qXyoHKP1",
        "colab": {
          "base_uri": "https://localhost:8080/"
        },
        "outputId": "6422c414-e2b2-4769-f95a-e536ac7b5bda"
      },
      "execution_count": 28,
      "outputs": [
        {
          "output_type": "stream",
          "name": "stdout",
          "text": [
            "Epoch 1/6\n",
            "5627/5627 [==============================] - 182s 32ms/step - loss: 0.5809 - accuracy: 0.7786 - val_loss: 0.4470 - val_accuracy: 0.8275\n",
            "Epoch 2/6\n",
            "5627/5627 [==============================] - 189s 34ms/step - loss: 0.4727 - accuracy: 0.8196 - val_loss: 0.4318 - val_accuracy: 0.8308\n",
            "Epoch 3/6\n",
            "5627/5627 [==============================] - 170s 30ms/step - loss: 0.4480 - accuracy: 0.8300 - val_loss: 0.4180 - val_accuracy: 0.8404\n",
            "Epoch 4/6\n",
            "5627/5627 [==============================] - 166s 30ms/step - loss: 0.4324 - accuracy: 0.8370 - val_loss: 0.4132 - val_accuracy: 0.8451\n",
            "Epoch 5/6\n",
            "5627/5627 [==============================] - 178s 32ms/step - loss: 0.4223 - accuracy: 0.8415 - val_loss: 0.4146 - val_accuracy: 0.8404\n",
            "Epoch 6/6\n",
            "5627/5627 [==============================] - 171s 30ms/step - loss: 0.4108 - accuracy: 0.8446 - val_loss: 0.4068 - val_accuracy: 0.8471\n"
          ]
        }
      ]
    },
    {
      "cell_type": "code",
      "source": [
        "plot_loss_and_accuracy(history_model_GRU)"
      ],
      "metadata": {
        "id": "qf8fRey1KfJB",
        "colab": {
          "base_uri": "https://localhost:8080/",
          "height": 507
        },
        "outputId": "07b06f1b-529b-4513-8982-1c87f6fe98fe"
      },
      "execution_count": 29,
      "outputs": [
        {
          "output_type": "display_data",
          "data": {
            "text/plain": [
              "<Figure size 1200x500 with 2 Axes>"
            ],
            "image/png": "[encoded data removed]"
          },
          "metadata": {}
        }
      ]
    },
    {
      "cell_type": "markdown",
      "source": [
        "From the above plot, we see that there is a jump on the validation accuracy. This is a result that I'm only validating on $10\\%$ of the development data. For the purpose of this practice project, let me stop training here. Let's see how the model performs on the full development data."
      ],
      "metadata": {
        "id": "fe4wlpR0cp2N"
      }
    },
    {
      "cell_type": "code",
      "source": [
        "model_GRU_pred_probs = model_GRU.predict(dev_pos_char_token_dataset, verbose=1)\n",
        "\n",
        "model_GRU_preds = tf.argmax(model_GRU_pred_probs, axis=1).numpy()\n",
        "\n",
        "print(model_GRU_preds)"
      ],
      "metadata": {
        "id": "4TUGGRCuHd7F",
        "colab": {
          "base_uri": "https://localhost:8080/"
        },
        "outputId": "eb2d51f7-2fde-4f16-9c4a-7aa255fb85b7"
      },
      "execution_count": 30,
      "outputs": [
        {
          "output_type": "stream",
          "name": "stdout",
          "text": [
            "945/945 [==============================] - 19s 18ms/step\n",
            "[0 0 0 ... 4 4 1]\n"
          ]
        }
      ]
    },
    {
      "cell_type": "code",
      "source": [
        "model_GRU_results = perform_evaluations(y_true=label_Encoded[\"dev_label\"],\n",
        "                                        y_pred=model_GRU_preds, model_name = \"model_GRU\")\n",
        "\n",
        "model_GRU_results_df = pd.DataFrame(model_GRU_results)\n",
        "\n",
        "model_GRU_results_df"
      ],
      "metadata": {
        "id": "G6THhNVaHmpf",
        "colab": {
          "base_uri": "https://localhost:8080/",
          "height": 175
        },
        "outputId": "e2f474b9-2110-4c7b-99bc-b179c0a1dd25"
      },
      "execution_count": 31,
      "outputs": [
        {
          "output_type": "execute_result",
          "data": {
            "text/plain": [
              "      Metric  model_GRU\n",
              "0   Accuracy      84.47\n",
              "1  Precision      84.97\n",
              "2     Recall      84.47\n",
              "3   F1-score      84.10"
            ],
            "text/html": [
              "\n",
              "  <div id=\"df-dde00a1b-55be-489c-a97d-fae7ea5ce237\" class=\"colab-df-container\">\n",
              "    <div>\n",
              "<style scoped>\n",
              "    .dataframe tbody tr th:only-of-type {\n",
              "        vertical-align: middle;\n",
              "    }\n",
              "\n",
              "    .dataframe tbody tr th {\n",
              "        vertical-align: top;\n",
              "    }\n",
              "\n",
              "    .dataframe thead th {\n",
              "        text-align: right;\n",
              "    }\n",
              "</style>\n",
              "<table border=\"1\" class=\"dataframe\">\n",
              "  <thead>\n",
              "    <tr style=\"text-align: right;\">\n",
              "      <th></th>\n",
              "      <th>Metric</th>\n",
              "      <th>model_GRU</th>\n",
              "    </tr>\n",
              "  </thead>\n",
              "  <tbody>\n",
              "    <tr>\n",
              "      <th>0</th>\n",
              "      <td>Accuracy</td>\n",
              "      <td>84.47</td>\n",
              "    </tr>\n",
              "    <tr>\n",
              "      <th>1</th>\n",
              "      <td>Precision</td>\n",
              "      <td>84.97</td>\n",
              "    </tr>\n",
              "    <tr>\n",
              "      <th>2</th>\n",
              "      <td>Recall</td>\n",
              "      <td>84.47</td>\n",
              "    </tr>\n",
              "    <tr>\n",
              "      <th>3</th>\n",
              "      <td>F1-score</td>\n",
              "      <td>84.10</td>\n",
              "    </tr>\n",
              "  </tbody>\n",
              "</table>\n",
              "</div>\n",
              "    <div class=\"colab-df-buttons\">\n",
              "\n",
              "  <div class=\"colab-df-container\">\n",
              "    <button class=\"colab-df-convert\" onclick=\"convertToInteractive('df-dde00a1b-55be-489c-a97d-fae7ea5ce237')\"\n",
              "            title=\"Convert this dataframe to an interactive table.\"\n",
              "            style=\"display:none;\">\n",
              "\n",
              "  <svg xmlns=\"http://www.w3.org/2000/svg\" height=\"24px\" viewBox=\"0 -960 960 960\">\n",
              "    <path d=\"M120-120v-720h720v720H120Zm60-500h600v-160H180v160Zm220 220h160v-160H400v160Zm0 220h160v-160H400v160ZM180-400h160v-160H180v160Zm440 0h160v-160H620v160ZM180-180h160v-160H180v160Zm440 0h160v-160H620v160Z\"/>\n",
              "  </svg>\n",
              "    </button>\n",
              "\n",
              "  <style>\n",
              "    .colab-df-container {\n",
              "      display:flex;\n",
              "      gap: 12px;\n",
              "    }\n",
              "\n",
              "    .colab-df-convert {\n",
              "      background-color: #E8F0FE;\n",
              "      border: none;\n",
              "      border-radius: 50%;\n",
              "      cursor: pointer;\n",
              "      display: none;\n",
              "      fill: #1967D2;\n",
              "      height: 32px;\n",
              "      padding: 0 0 0 0;\n",
              "      width: 32px;\n",
              "    }\n",
              "\n",
              "    .colab-df-convert:hover {\n",
              "      background-color: #E2EBFA;\n",
              "      box-shadow: 0px 1px 2px rgba(60, 64, 67, 0.3), 0px 1px 3px 1px rgba(60, 64, 67, 0.15);\n",
              "      fill: #174EA6;\n",
              "    }\n",
              "\n",
              "    .colab-df-buttons div {\n",
              "      margin-bottom: 4px;\n",
              "    }\n",
              "\n",
              "    [theme=dark] .colab-df-convert {\n",
              "      background-color: #3B4455;\n",
              "      fill: #D2E3FC;\n",
              "    }\n",
              "\n",
              "    [theme=dark] .colab-df-convert:hover {\n",
              "      background-color: #434B5C;\n",
              "      box-shadow: 0px 1px 3px 1px rgba(0, 0, 0, 0.15);\n",
              "      filter: drop-shadow(0px 1px 2px rgba(0, 0, 0, 0.3));\n",
              "      fill: #FFFFFF;\n",
              "    }\n",
              "  </style>\n",
              "\n",
              "    <script>\n",
              "      const buttonEl =\n",
              "        document.querySelector('#df-dde00a1b-55be-489c-a97d-fae7ea5ce237 button.colab-df-convert');\n",
              "      buttonEl.style.display =\n",
              "        google.colab.kernel.accessAllowed ? 'block' : 'none';\n",
              "\n",
              "      async function convertToInteractive(key) {\n",
              "        const element = document.querySelector('#df-dde00a1b-55be-489c-a97d-fae7ea5ce237');\n",
              "        const dataTable =\n",
              "          await google.colab.kernel.invokeFunction('convertToInteractive',\n",
              "                                                    [key], {});\n",
              "        if (!dataTable) return;\n",
              "\n",
              "        const docLinkHtml = 'Like what you see? Visit the ' +\n",
              "          '<a target=\"_blank\" href=https://colab.research.google.com/notebooks/data_table.ipynb>data table notebook</a>'\n",
              "          + ' to learn more about interactive tables.';\n",
              "        element.innerHTML = '';\n",
              "        dataTable['output_type'] = 'display_data';\n",
              "        await google.colab.output.renderOutput(dataTable, element);\n",
              "        const docLink = document.createElement('div');\n",
              "        docLink.innerHTML = docLinkHtml;\n",
              "        element.appendChild(docLink);\n",
              "      }\n",
              "    </script>\n",
              "  </div>\n",
              "\n",
              "\n",
              "<div id=\"df-997e6afe-3a70-4783-8864-20b7a9712c8a\">\n",
              "  <button class=\"colab-df-quickchart\" onclick=\"quickchart('df-997e6afe-3a70-4783-8864-20b7a9712c8a')\"\n",
              "            title=\"Suggest charts\"\n",
              "            style=\"display:none;\">\n",
              "\n",
              "<svg xmlns=\"http://www.w3.org/2000/svg\" height=\"24px\"viewBox=\"0 0 24 24\"\n",
              "     width=\"24px\">\n",
              "    <g>\n",
              "        <path d=\"M19 3H5c-1.1 0-2 .9-2 2v14c0 1.1.9 2 2 2h14c1.1 0 2-.9 2-2V5c0-1.1-.9-2-2-2zM9 17H7v-7h2v7zm4 0h-2V7h2v10zm4 0h-2v-4h2v4z\"/>\n",
              "    </g>\n",
              "</svg>\n",
              "  </button>\n",
              "\n",
              "<style>\n",
              "  .colab-df-quickchart {\n",
              "      --bg-color: #E8F0FE;\n",
              "      --fill-color: #1967D2;\n",
              "      --hover-bg-color: #E2EBFA;\n",
              "      --hover-fill-color: #174EA6;\n",
              "      --disabled-fill-color: #AAA;\n",
              "      --disabled-bg-color: #DDD;\n",
              "  }\n",
              "\n",
              "  [theme=dark] .colab-df-quickchart {\n",
              "      --bg-color: #3B4455;\n",
              "      --fill-color: #D2E3FC;\n",
              "      --hover-bg-color: #434B5C;\n",
              "      --hover-fill-color: #FFFFFF;\n",
              "      --disabled-bg-color: #3B4455;\n",
              "      --disabled-fill-color: #666;\n",
              "  }\n",
              "\n",
              "  .colab-df-quickchart {\n",
              "    background-color: var(--bg-color);\n",
              "    border: none;\n",
              "    border-radius: 50%;\n",
              "    cursor: pointer;\n",
              "    display: none;\n",
              "    fill: var(--fill-color);\n",
              "    height: 32px;\n",
              "    padding: 0;\n",
              "    width: 32px;\n",
              "  }\n",
              "\n",
              "  .colab-df-quickchart:hover {\n",
              "    background-color: var(--hover-bg-color);\n",
              "    box-shadow: 0 1px 2px rgba(60, 64, 67, 0.3), 0 1px 3px 1px rgba(60, 64, 67, 0.15);\n",
              "    fill: var(--button-hover-fill-color);\n",
              "  }\n",
              "\n",
              "  .colab-df-quickchart-complete:disabled,\n",
              "  .colab-df-quickchart-complete:disabled:hover {\n",
              "    background-color: var(--disabled-bg-color);\n",
              "    fill: var(--disabled-fill-color);\n",
              "    box-shadow: none;\n",
              "  }\n",
              "\n",
              "  .colab-df-spinner {\n",
              "    border: 2px solid var(--fill-color);\n",
              "    border-color: transparent;\n",
              "    border-bottom-color: var(--fill-color);\n",
              "    animation:\n",
              "      spin 1s steps(1) infinite;\n",
              "  }\n",
              "\n",
              "  @keyframes spin {\n",
              "    0% {\n",
              "      border-color: transparent;\n",
              "      border-bottom-color: var(--fill-color);\n",
              "      border-left-color: var(--fill-color);\n",
              "    }\n",
              "    20% {\n",
              "      border-color: transparent;\n",
              "      border-left-color: var(--fill-color);\n",
              "      border-top-color: var(--fill-color);\n",
              "    }\n",
              "    30% {\n",
              "      border-color: transparent;\n",
              "      border-left-color: var(--fill-color);\n",
              "      border-top-color: var(--fill-color);\n",
              "      border-right-color: var(--fill-color);\n",
              "    }\n",
              "    40% {\n",
              "      border-color: transparent;\n",
              "      border-right-color: var(--fill-color);\n",
              "      border-top-color: var(--fill-color);\n",
              "    }\n",
              "    60% {\n",
              "      border-color: transparent;\n",
              "      border-right-color: var(--fill-color);\n",
              "    }\n",
              "    80% {\n",
              "      border-color: transparent;\n",
              "      border-right-color: var(--fill-color);\n",
              "      border-bottom-color: var(--fill-color);\n",
              "    }\n",
              "    90% {\n",
              "      border-color: transparent;\n",
              "      border-bottom-color: var(--fill-color);\n",
              "    }\n",
              "  }\n",
              "</style>\n",
              "\n",
              "  <script>\n",
              "    async function quickchart(key) {\n",
              "      const quickchartButtonEl =\n",
              "        document.querySelector('#' + key + ' button');\n",
              "      quickchartButtonEl.disabled = true;  // To prevent multiple clicks.\n",
              "      quickchartButtonEl.classList.add('colab-df-spinner');\n",
              "      try {\n",
              "        const charts = await google.colab.kernel.invokeFunction(\n",
              "            'suggestCharts', [key], {});\n",
              "      } catch (error) {\n",
              "        console.error('Error during call to suggestCharts:', error);\n",
              "      }\n",
              "      quickchartButtonEl.classList.remove('colab-df-spinner');\n",
              "      quickchartButtonEl.classList.add('colab-df-quickchart-complete');\n",
              "    }\n",
              "    (() => {\n",
              "      let quickchartButtonEl =\n",
              "        document.querySelector('#df-997e6afe-3a70-4783-8864-20b7a9712c8a button');\n",
              "      quickchartButtonEl.style.display =\n",
              "        google.colab.kernel.accessAllowed ? 'block' : 'none';\n",
              "    })();\n",
              "  </script>\n",
              "</div>\n",
              "\n",
              "  <div id=\"id_e2e56bd8-4e4a-40b9-b1f4-c5d586905e1b\">\n",
              "    <style>\n",
              "      .colab-df-generate {\n",
              "        background-color: #E8F0FE;\n",
              "        border: none;\n",
              "        border-radius: 50%;\n",
              "        cursor: pointer;\n",
              "        display: none;\n",
              "        fill: #1967D2;\n",
              "        height: 32px;\n",
              "        padding: 0 0 0 0;\n",
              "        width: 32px;\n",
              "      }\n",
              "\n",
              "      .colab-df-generate:hover {\n",
              "        background-color: #E2EBFA;\n",
              "        box-shadow: 0px 1px 2px rgba(60, 64, 67, 0.3), 0px 1px 3px 1px rgba(60, 64, 67, 0.15);\n",
              "        fill: #174EA6;\n",
              "      }\n",
              "\n",
              "      [theme=dark] .colab-df-generate {\n",
              "        background-color: #3B4455;\n",
              "        fill: #D2E3FC;\n",
              "      }\n",
              "\n",
              "      [theme=dark] .colab-df-generate:hover {\n",
              "        background-color: #434B5C;\n",
              "        box-shadow: 0px 1px 3px 1px rgba(0, 0, 0, 0.15);\n",
              "        filter: drop-shadow(0px 1px 2px rgba(0, 0, 0, 0.3));\n",
              "        fill: #FFFFFF;\n",
              "      }\n",
              "    </style>\n",
              "    <button class=\"colab-df-generate\" onclick=\"generateWithVariable('model_GRU_results_df')\"\n",
              "            title=\"Generate code using this dataframe.\"\n",
              "            style=\"display:none;\">\n",
              "\n",
              "  <svg xmlns=\"http://www.w3.org/2000/svg\" height=\"24px\"viewBox=\"0 0 24 24\"\n",
              "       width=\"24px\">\n",
              "    <path d=\"M7,19H8.4L18.45,9,17,7.55,7,17.6ZM5,21V16.75L18.45,3.32a2,2,0,0,1,2.83,0l1.4,1.43a1.91,1.91,0,0,1,.58,1.4,1.91,1.91,0,0,1-.58,1.4L9.25,21ZM18.45,9,17,7.55Zm-12,3A5.31,5.31,0,0,0,4.9,8.1,5.31,5.31,0,0,0,1,6.5,5.31,5.31,0,0,0,4.9,4.9,5.31,5.31,0,0,0,6.5,1,5.31,5.31,0,0,0,8.1,4.9,5.31,5.31,0,0,0,12,6.5,5.46,5.46,0,0,0,6.5,12Z\"/>\n",
              "  </svg>\n",
              "    </button>\n",
              "    <script>\n",
              "      (() => {\n",
              "      const buttonEl =\n",
              "        document.querySelector('#id_e2e56bd8-4e4a-40b9-b1f4-c5d586905e1b button.colab-df-generate');\n",
              "      buttonEl.style.display =\n",
              "        google.colab.kernel.accessAllowed ? 'block' : 'none';\n",
              "\n",
              "      buttonEl.onclick = () => {\n",
              "        google.colab.notebook.generateWithVariable('model_GRU_results_df');\n",
              "      }\n",
              "      })();\n",
              "    </script>\n",
              "  </div>\n",
              "\n",
              "    </div>\n",
              "  </div>\n"
            ],
            "application/vnd.google.colaboratory.intrinsic+json": {
              "type": "dataframe",
              "variable_name": "model_GRU_results_df",
              "summary": "{\n  \"name\": \"model_GRU_results_df\",\n  \"rows\": 4,\n  \"fields\": [\n    {\n      \"column\": \"Metric\",\n      \"properties\": {\n        \"dtype\": \"string\",\n        \"num_unique_values\": 4,\n        \"samples\": [\n          \"Precision\",\n          \"F1-score\",\n          \"Accuracy\"\n        ],\n        \"semantic_type\": \"\",\n        \"description\": \"\"\n      }\n    },\n    {\n      \"column\": \"model_GRU\",\n      \"properties\": {\n        \"dtype\": \"number\",\n        \"std\": 0.3571530950913551,\n        \"min\": 84.1,\n        \"max\": 84.97,\n        \"num_unique_values\": 3,\n        \"samples\": [\n          84.47,\n          84.97,\n          84.1\n        ],\n        \"semantic_type\": \"\",\n        \"description\": \"\"\n      }\n    }\n  ]\n}"
            }
          },
          "metadata": {},
          "execution_count": 31
        }
      ]
    },
    {
      "cell_type": "markdown",
      "source": [
        "## 2.5 Model comparison"
      ],
      "metadata": {
        "id": "Y8wYpedzizCb"
      }
    },
    {
      "cell_type": "code",
      "source": [
        "joined_df = pd.merge(model_LSTM_results_df, model_GRU_results_df, on=\"Metric\")\n",
        "\n",
        "joined_df.set_index(\"Metric\", inplace=True)\n",
        "\n",
        "joined_df"
      ],
      "metadata": {
        "colab": {
          "base_uri": "https://localhost:8080/",
          "height": 206
        },
        "id": "5eJiEFkqcZ3I",
        "outputId": "dcfdf36e-6978-4fd9-c96f-53919ae4a277"
      },
      "execution_count": 36,
      "outputs": [
        {
          "output_type": "execute_result",
          "data": {
            "text/plain": [
              "           model_LSTM  model_GRU\n",
              "Metric                          \n",
              "Accuracy        84.50      84.47\n",
              "Precision       85.16      84.97\n",
              "Recall          84.50      84.47\n",
              "F1-score        84.13      84.10"
            ],
            "text/html": [
              "\n",
              "  <div id=\"df-9e34888f-4ee2-4977-8632-274bce58b30c\" class=\"colab-df-container\">\n",
              "    <div>\n",
              "<style scoped>\n",
              "    .dataframe tbody tr th:only-of-type {\n",
              "        vertical-align: middle;\n",
              "    }\n",
              "\n",
              "    .dataframe tbody tr th {\n",
              "        vertical-align: top;\n",
              "    }\n",
              "\n",
              "    .dataframe thead th {\n",
              "        text-align: right;\n",
              "    }\n",
              "</style>\n",
              "<table border=\"1\" class=\"dataframe\">\n",
              "  <thead>\n",
              "    <tr style=\"text-align: right;\">\n",
              "      <th></th>\n",
              "      <th>model_LSTM</th>\n",
              "      <th>model_GRU</th>\n",
              "    </tr>\n",
              "    <tr>\n",
              "      <th>Metric</th>\n",
              "      <th></th>\n",
              "      <th></th>\n",
              "    </tr>\n",
              "  </thead>\n",
              "  <tbody>\n",
              "    <tr>\n",
              "      <th>Accuracy</th>\n",
              "      <td>84.50</td>\n",
              "      <td>84.47</td>\n",
              "    </tr>\n",
              "    <tr>\n",
              "      <th>Precision</th>\n",
              "      <td>85.16</td>\n",
              "      <td>84.97</td>\n",
              "    </tr>\n",
              "    <tr>\n",
              "      <th>Recall</th>\n",
              "      <td>84.50</td>\n",
              "      <td>84.47</td>\n",
              "    </tr>\n",
              "    <tr>\n",
              "      <th>F1-score</th>\n",
              "      <td>84.13</td>\n",
              "      <td>84.10</td>\n",
              "    </tr>\n",
              "  </tbody>\n",
              "</table>\n",
              "</div>\n",
              "    <div class=\"colab-df-buttons\">\n",
              "\n",
              "  <div class=\"colab-df-container\">\n",
              "    <button class=\"colab-df-convert\" onclick=\"convertToInteractive('df-9e34888f-4ee2-4977-8632-274bce58b30c')\"\n",
              "            title=\"Convert this dataframe to an interactive table.\"\n",
              "            style=\"display:none;\">\n",
              "\n",
              "  <svg xmlns=\"http://www.w3.org/2000/svg\" height=\"24px\" viewBox=\"0 -960 960 960\">\n",
              "    <path d=\"M120-120v-720h720v720H120Zm60-500h600v-160H180v160Zm220 220h160v-160H400v160Zm0 220h160v-160H400v160ZM180-400h160v-160H180v160Zm440 0h160v-160H620v160ZM180-180h160v-160H180v160Zm440 0h160v-160H620v160Z\"/>\n",
              "  </svg>\n",
              "    </button>\n",
              "\n",
              "  <style>\n",
              "    .colab-df-container {\n",
              "      display:flex;\n",
              "      gap: 12px;\n",
              "    }\n",
              "\n",
              "    .colab-df-convert {\n",
              "      background-color: #E8F0FE;\n",
              "      border: none;\n",
              "      border-radius: 50%;\n",
              "      cursor: pointer;\n",
              "      display: none;\n",
              "      fill: #1967D2;\n",
              "      height: 32px;\n",
              "      padding: 0 0 0 0;\n",
              "      width: 32px;\n",
              "    }\n",
              "\n",
              "    .colab-df-convert:hover {\n",
              "      background-color: #E2EBFA;\n",
              "      box-shadow: 0px 1px 2px rgba(60, 64, 67, 0.3), 0px 1px 3px 1px rgba(60, 64, 67, 0.15);\n",
              "      fill: #174EA6;\n",
              "    }\n",
              "\n",
              "    .colab-df-buttons div {\n",
              "      margin-bottom: 4px;\n",
              "    }\n",
              "\n",
              "    [theme=dark] .colab-df-convert {\n",
              "      background-color: #3B4455;\n",
              "      fill: #D2E3FC;\n",
              "    }\n",
              "\n",
              "    [theme=dark] .colab-df-convert:hover {\n",
              "      background-color: #434B5C;\n",
              "      box-shadow: 0px 1px 3px 1px rgba(0, 0, 0, 0.15);\n",
              "      filter: drop-shadow(0px 1px 2px rgba(0, 0, 0, 0.3));\n",
              "      fill: #FFFFFF;\n",
              "    }\n",
              "  </style>\n",
              "\n",
              "    <script>\n",
              "      const buttonEl =\n",
              "        document.querySelector('#df-9e34888f-4ee2-4977-8632-274bce58b30c button.colab-df-convert');\n",
              "      buttonEl.style.display =\n",
              "        google.colab.kernel.accessAllowed ? 'block' : 'none';\n",
              "\n",
              "      async function convertToInteractive(key) {\n",
              "        const element = document.querySelector('#df-9e34888f-4ee2-4977-8632-274bce58b30c');\n",
              "        const dataTable =\n",
              "          await google.colab.kernel.invokeFunction('convertToInteractive',\n",
              "                                                    [key], {});\n",
              "        if (!dataTable) return;\n",
              "\n",
              "        const docLinkHtml = 'Like what you see? Visit the ' +\n",
              "          '<a target=\"_blank\" href=https://colab.research.google.com/notebooks/data_table.ipynb>data table notebook</a>'\n",
              "          + ' to learn more about interactive tables.';\n",
              "        element.innerHTML = '';\n",
              "        dataTable['output_type'] = 'display_data';\n",
              "        await google.colab.output.renderOutput(dataTable, element);\n",
              "        const docLink = document.createElement('div');\n",
              "        docLink.innerHTML = docLinkHtml;\n",
              "        element.appendChild(docLink);\n",
              "      }\n",
              "    </script>\n",
              "  </div>\n",
              "\n",
              "\n",
              "<div id=\"df-2489dd64-6546-460d-84f1-531956de0266\">\n",
              "  <button class=\"colab-df-quickchart\" onclick=\"quickchart('df-2489dd64-6546-460d-84f1-531956de0266')\"\n",
              "            title=\"Suggest charts\"\n",
              "            style=\"display:none;\">\n",
              "\n",
              "<svg xmlns=\"http://www.w3.org/2000/svg\" height=\"24px\"viewBox=\"0 0 24 24\"\n",
              "     width=\"24px\">\n",
              "    <g>\n",
              "        <path d=\"M19 3H5c-1.1 0-2 .9-2 2v14c0 1.1.9 2 2 2h14c1.1 0 2-.9 2-2V5c0-1.1-.9-2-2-2zM9 17H7v-7h2v7zm4 0h-2V7h2v10zm4 0h-2v-4h2v4z\"/>\n",
              "    </g>\n",
              "</svg>\n",
              "  </button>\n",
              "\n",
              "<style>\n",
              "  .colab-df-quickchart {\n",
              "      --bg-color: #E8F0FE;\n",
              "      --fill-color: #1967D2;\n",
              "      --hover-bg-color: #E2EBFA;\n",
              "      --hover-fill-color: #174EA6;\n",
              "      --disabled-fill-color: #AAA;\n",
              "      --disabled-bg-color: #DDD;\n",
              "  }\n",
              "\n",
              "  [theme=dark] .colab-df-quickchart {\n",
              "      --bg-color: #3B4455;\n",
              "      --fill-color: #D2E3FC;\n",
              "      --hover-bg-color: #434B5C;\n",
              "      --hover-fill-color: #FFFFFF;\n",
              "      --disabled-bg-color: #3B4455;\n",
              "      --disabled-fill-color: #666;\n",
              "  }\n",
              "\n",
              "  .colab-df-quickchart {\n",
              "    background-color: var(--bg-color);\n",
              "    border: none;\n",
              "    border-radius: 50%;\n",
              "    cursor: pointer;\n",
              "    display: none;\n",
              "    fill: var(--fill-color);\n",
              "    height: 32px;\n",
              "    padding: 0;\n",
              "    width: 32px;\n",
              "  }\n",
              "\n",
              "  .colab-df-quickchart:hover {\n",
              "    background-color: var(--hover-bg-color);\n",
              "    box-shadow: 0 1px 2px rgba(60, 64, 67, 0.3), 0 1px 3px 1px rgba(60, 64, 67, 0.15);\n",
              "    fill: var(--button-hover-fill-color);\n",
              "  }\n",
              "\n",
              "  .colab-df-quickchart-complete:disabled,\n",
              "  .colab-df-quickchart-complete:disabled:hover {\n",
              "    background-color: var(--disabled-bg-color);\n",
              "    fill: var(--disabled-fill-color);\n",
              "    box-shadow: none;\n",
              "  }\n",
              "\n",
              "  .colab-df-spinner {\n",
              "    border: 2px solid var(--fill-color);\n",
              "    border-color: transparent;\n",
              "    border-bottom-color: var(--fill-color);\n",
              "    animation:\n",
              "      spin 1s steps(1) infinite;\n",
              "  }\n",
              "\n",
              "  @keyframes spin {\n",
              "    0% {\n",
              "      border-color: transparent;\n",
              "      border-bottom-color: var(--fill-color);\n",
              "      border-left-color: var(--fill-color);\n",
              "    }\n",
              "    20% {\n",
              "      border-color: transparent;\n",
              "      border-left-color: var(--fill-color);\n",
              "      border-top-color: var(--fill-color);\n",
              "    }\n",
              "    30% {\n",
              "      border-color: transparent;\n",
              "      border-left-color: var(--fill-color);\n",
              "      border-top-color: var(--fill-color);\n",
              "      border-right-color: var(--fill-color);\n",
              "    }\n",
              "    40% {\n",
              "      border-color: transparent;\n",
              "      border-right-color: var(--fill-color);\n",
              "      border-top-color: var(--fill-color);\n",
              "    }\n",
              "    60% {\n",
              "      border-color: transparent;\n",
              "      border-right-color: var(--fill-color);\n",
              "    }\n",
              "    80% {\n",
              "      border-color: transparent;\n",
              "      border-right-color: var(--fill-color);\n",
              "      border-bottom-color: var(--fill-color);\n",
              "    }\n",
              "    90% {\n",
              "      border-color: transparent;\n",
              "      border-bottom-color: var(--fill-color);\n",
              "    }\n",
              "  }\n",
              "</style>\n",
              "\n",
              "  <script>\n",
              "    async function quickchart(key) {\n",
              "      const quickchartButtonEl =\n",
              "        document.querySelector('#' + key + ' button');\n",
              "      quickchartButtonEl.disabled = true;  // To prevent multiple clicks.\n",
              "      quickchartButtonEl.classList.add('colab-df-spinner');\n",
              "      try {\n",
              "        const charts = await google.colab.kernel.invokeFunction(\n",
              "            'suggestCharts', [key], {});\n",
              "      } catch (error) {\n",
              "        console.error('Error during call to suggestCharts:', error);\n",
              "      }\n",
              "      quickchartButtonEl.classList.remove('colab-df-spinner');\n",
              "      quickchartButtonEl.classList.add('colab-df-quickchart-complete');\n",
              "    }\n",
              "    (() => {\n",
              "      let quickchartButtonEl =\n",
              "        document.querySelector('#df-2489dd64-6546-460d-84f1-531956de0266 button');\n",
              "      quickchartButtonEl.style.display =\n",
              "        google.colab.kernel.accessAllowed ? 'block' : 'none';\n",
              "    })();\n",
              "  </script>\n",
              "</div>\n",
              "\n",
              "  <div id=\"id_64231082-03c7-4458-b263-bbc8d4b6c80a\">\n",
              "    <style>\n",
              "      .colab-df-generate {\n",
              "        background-color: #E8F0FE;\n",
              "        border: none;\n",
              "        border-radius: 50%;\n",
              "        cursor: pointer;\n",
              "        display: none;\n",
              "        fill: #1967D2;\n",
              "        height: 32px;\n",
              "        padding: 0 0 0 0;\n",
              "        width: 32px;\n",
              "      }\n",
              "\n",
              "      .colab-df-generate:hover {\n",
              "        background-color: #E2EBFA;\n",
              "        box-shadow: 0px 1px 2px rgba(60, 64, 67, 0.3), 0px 1px 3px 1px rgba(60, 64, 67, 0.15);\n",
              "        fill: #174EA6;\n",
              "      }\n",
              "\n",
              "      [theme=dark] .colab-df-generate {\n",
              "        background-color: #3B4455;\n",
              "        fill: #D2E3FC;\n",
              "      }\n",
              "\n",
              "      [theme=dark] .colab-df-generate:hover {\n",
              "        background-color: #434B5C;\n",
              "        box-shadow: 0px 1px 3px 1px rgba(0, 0, 0, 0.15);\n",
              "        filter: drop-shadow(0px 1px 2px rgba(0, 0, 0, 0.3));\n",
              "        fill: #FFFFFF;\n",
              "      }\n",
              "    </style>\n",
              "    <button class=\"colab-df-generate\" onclick=\"generateWithVariable('joined_df')\"\n",
              "            title=\"Generate code using this dataframe.\"\n",
              "            style=\"display:none;\">\n",
              "\n",
              "  <svg xmlns=\"http://www.w3.org/2000/svg\" height=\"24px\"viewBox=\"0 0 24 24\"\n",
              "       width=\"24px\">\n",
              "    <path d=\"M7,19H8.4L18.45,9,17,7.55,7,17.6ZM5,21V16.75L18.45,3.32a2,2,0,0,1,2.83,0l1.4,1.43a1.91,1.91,0,0,1,.58,1.4,1.91,1.91,0,0,1-.58,1.4L9.25,21ZM18.45,9,17,7.55Zm-12,3A5.31,5.31,0,0,0,4.9,8.1,5.31,5.31,0,0,0,1,6.5,5.31,5.31,0,0,0,4.9,4.9,5.31,5.31,0,0,0,6.5,1,5.31,5.31,0,0,0,8.1,4.9,5.31,5.31,0,0,0,12,6.5,5.46,5.46,0,0,0,6.5,12Z\"/>\n",
              "  </svg>\n",
              "    </button>\n",
              "    <script>\n",
              "      (() => {\n",
              "      const buttonEl =\n",
              "        document.querySelector('#id_64231082-03c7-4458-b263-bbc8d4b6c80a button.colab-df-generate');\n",
              "      buttonEl.style.display =\n",
              "        google.colab.kernel.accessAllowed ? 'block' : 'none';\n",
              "\n",
              "      buttonEl.onclick = () => {\n",
              "        google.colab.notebook.generateWithVariable('joined_df');\n",
              "      }\n",
              "      })();\n",
              "    </script>\n",
              "  </div>\n",
              "\n",
              "    </div>\n",
              "  </div>\n"
            ],
            "application/vnd.google.colaboratory.intrinsic+json": {
              "type": "dataframe",
              "variable_name": "joined_df",
              "summary": "{\n  \"name\": \"joined_df\",\n  \"rows\": 4,\n  \"fields\": [\n    {\n      \"column\": \"Metric\",\n      \"properties\": {\n        \"dtype\": \"string\",\n        \"num_unique_values\": 4,\n        \"samples\": [\n          \"Precision\",\n          \"F1-score\",\n          \"Accuracy\"\n        ],\n        \"semantic_type\": \"\",\n        \"description\": \"\"\n      }\n    },\n    {\n      \"column\": \"model_LSTM\",\n      \"properties\": {\n        \"dtype\": \"number\",\n        \"std\": 0.4287481778386887,\n        \"min\": 84.13000000000001,\n        \"max\": 85.16,\n        \"num_unique_values\": 3,\n        \"samples\": [\n          84.5,\n          85.16,\n          84.13000000000001\n        ],\n        \"semantic_type\": \"\",\n        \"description\": \"\"\n      }\n    },\n    {\n      \"column\": \"model_GRU\",\n      \"properties\": {\n        \"dtype\": \"number\",\n        \"std\": 0.3571530950913551,\n        \"min\": 84.1,\n        \"max\": 84.97,\n        \"num_unique_values\": 3,\n        \"samples\": [\n          84.47,\n          84.97,\n          84.1\n        ],\n        \"semantic_type\": \"\",\n        \"description\": \"\"\n      }\n    }\n  ]\n}"
            }
          },
          "metadata": {},
          "execution_count": 36
        }
      ]
    },
    {
      "cell_type": "markdown",
      "source": [
        "We see that the evaluation metrics for the LSTM and the GRU models are quite similar (which is expected as the GRU is a simplified version of LSTM). Recall that our optimizing metric is accuracy and we want all the satisfiying metrics (precision, recall, and F-1) to be at least $70\\%$. Based on this criterion, I select the LSTM model as our best RNN model."
      ],
      "metadata": {
        "id": "F5XyMpkNcnNv"
      }
    },
    {
      "cell_type": "code",
      "source": [],
      "metadata": {
        "id": "W7Q_vs8yd1z3"
      },
      "execution_count": null,
      "outputs": []
    }
  ]
}