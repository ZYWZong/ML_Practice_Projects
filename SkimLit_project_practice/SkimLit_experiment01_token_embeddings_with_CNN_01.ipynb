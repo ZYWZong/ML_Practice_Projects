{
  "nbformat": 4,
  "nbformat_minor": 0,
  "metadata": {
    "colab": {
      "provenance": [],
      "gpuType": "T4"
    },
    "kernelspec": {
      "name": "python3",
      "display_name": "Python 3"
    },
    "language_info": {
      "name": "python"
    },
    "accelerator": "GPU"
  },
  "cells": [
    {
      "cell_type": "markdown",
      "source": [
        "# Notebook 01: Experiments on Convolution Neural Networks with token embeddings"
      ],
      "metadata": {
        "id": "9s65REin-QAZ"
      }
    },
    {
      "cell_type": "markdown",
      "source": [
        "It is known that CNNs can perform well on some natural language processing tasks including text classification for their ability to capture long range relations. In the `PubMed`'s abstract dataset, these relations are, for example,\n",
        "\n",
        "\n",
        "*  Abstracts are written in a similar pattern in the order of `OBJECTIVE`, `BACKGROUND`, `METHODS`, `RESULTS`, and `CONCLUSIONS`.\n",
        "*  Sentences among each label category carry similarities across different abstracts.\n",
        "\n",
        "So, here, I'd like to experiment on the CNNs to see how they perform on our text classification task. In this notebook, I'll use only token embedding methods. I will explore different embeddings in depth in the next notebook (notebook 02), where I will also build RNN models."
      ],
      "metadata": {
        "id": "8Gub7IDlJkqV"
      }
    },
    {
      "cell_type": "markdown",
      "source": [
        ">[Notebook 01: Experiments on Convolution Neural Networks with token embeddings](#updateTitle=true&folderId=1jOK8dPXjpbX30hsDi48mgZ6b3TXKUrvr&scrollTo=9s65REin-QAZ)\n",
        "\n",
        ">>[1.1 Load and check dependencies](#updateTitle=true&folderId=1jOK8dPXjpbX30hsDi48mgZ6b3TXKUrvr&scrollTo=LzhCNtFbJi0x)\n",
        "\n",
        ">>>[1.1.1 Check GPU](#updateTitle=true&folderId=1jOK8dPXjpbX30hsDi48mgZ6b3TXKUrvr&scrollTo=6RbQpq0KKaWK)\n",
        "\n",
        ">>>[1.1.2 Load and install libraries](#updateTitle=true&folderId=1jOK8dPXjpbX30hsDi48mgZ6b3TXKUrvr&scrollTo=Ba9WomL9KgyL)\n",
        "\n",
        ">>>[1.1.3 Load and preprocess data](#updateTitle=true&folderId=1jOK8dPXjpbX30hsDi48mgZ6b3TXKUrvr&scrollTo=dl_esJYmJW_V)\n",
        "\n",
        ">>[1.2 Token embeddings](#updateTitle=true&folderId=1jOK8dPXjpbX30hsDi48mgZ6b3TXKUrvr&scrollTo=00pjHnMeoDER)\n",
        "\n",
        ">>>[1.2.1 Prepare for token embeddings](#updateTitle=true&folderId=1jOK8dPXjpbX30hsDi48mgZ6b3TXKUrvr&scrollTo=0b7xTDh--3u9)\n",
        "\n",
        ">>>[1.2.2 Embedding No.1](#updateTitle=true&folderId=1jOK8dPXjpbX30hsDi48mgZ6b3TXKUrvr&scrollTo=bXLpWmOPsAoq)\n",
        "\n",
        ">>>[1.2.3 Embedding No.2](#updateTitle=true&folderId=1jOK8dPXjpbX30hsDi48mgZ6b3TXKUrvr&scrollTo=KVCoLoE_sGJg)\n",
        "\n",
        ">>[1.3 Experiments on CNN](#updateTitle=true&folderId=1jOK8dPXjpbX30hsDi48mgZ6b3TXKUrvr&scrollTo=MqwKpqyZLsxx)\n",
        "\n",
        ">>>[1.3.1 Model_E1:](#updateTitle=true&folderId=1jOK8dPXjpbX30hsDi48mgZ6b3TXKUrvr&scrollTo=FV02ooo5L9GV)\n",
        "\n",
        ">>>[1.3.2 Model_E2:](#updateTitle=true&folderId=1jOK8dPXjpbX30hsDi48mgZ6b3TXKUrvr&scrollTo=gUFABuZ9n9J3)\n",
        "\n",
        ">>>>[1.3.2.1 CNN model](#updateTitle=true&folderId=1jOK8dPXjpbX30hsDi48mgZ6b3TXKUrvr&scrollTo=uTT2Tx_MWOBz)\n",
        "\n",
        ">>>>[1.3.2.2 Dense model](#updateTitle=true&folderId=1jOK8dPXjpbX30hsDi48mgZ6b3TXKUrvr&scrollTo=0YfvXJs7WTXa)\n",
        "\n",
        ">>>[1.3.3 Model comparison](#updateTitle=true&folderId=1jOK8dPXjpbX30hsDi48mgZ6b3TXKUrvr&scrollTo=Wwt4-0vPrVDF)\n",
        "\n",
        ">>[1.4 The final CNN model](#updateTitle=true&folderId=1jOK8dPXjpbX30hsDi48mgZ6b3TXKUrvr&scrollTo=Uw-0dqkie0wb)\n",
        "\n"
      ],
      "metadata": {
        "colab_type": "toc",
        "id": "Vjx5dJStJoh1"
      }
    },
    {
      "cell_type": "markdown",
      "source": [
        "## 1.1 Load and check dependencies"
      ],
      "metadata": {
        "id": "LzhCNtFbJi0x"
      }
    },
    {
      "cell_type": "markdown",
      "source": [
        "### 1.1.1 Check GPU"
      ],
      "metadata": {
        "id": "6RbQpq0KKaWK"
      }
    },
    {
      "cell_type": "code",
      "source": [
        "!nvidia-smi -L"
      ],
      "metadata": {
        "colab": {
          "base_uri": "https://localhost:8080/"
        },
        "id": "MN1_ikd9Ixpf",
        "outputId": "20bbf131-1794-4da8-c72b-1680a3085c36"
      },
      "execution_count": 1,
      "outputs": [
        {
          "output_type": "stream",
          "name": "stdout",
          "text": [
            "GPU 0: Tesla T4 (UUID: GPU-c73e873a-0f99-bf52-7bdc-28cea1f28405)\n"
          ]
        }
      ]
    },
    {
      "cell_type": "markdown",
      "source": [
        "### 1.1.2 Load and install libraries"
      ],
      "metadata": {
        "id": "Ba9WomL9KgyL"
      }
    },
    {
      "cell_type": "code",
      "source": [
        "import numpy as np\n",
        "import matplotlib.pyplot as plt\n",
        "import pandas as pd"
      ],
      "metadata": {
        "id": "2N8Kcb61Hf7t"
      },
      "execution_count": 2,
      "outputs": []
    },
    {
      "cell_type": "markdown",
      "source": [
        "`Tensorflow` has a known compatibility issue with `tensorflow_hub`. This issue can be resolved by using a previous version of tensorflow."
      ],
      "metadata": {
        "id": "iwv-UWfUKoOm"
      }
    },
    {
      "cell_type": "code",
      "source": [
        "# revert back to a previous version of tensorflow\n",
        "!pip -q install tensorflow==2.15.0 tensorflow-hub keras==2.15.0;"
      ],
      "metadata": {
        "id": "avwm4ABRIHOh"
      },
      "execution_count": 3,
      "outputs": []
    },
    {
      "cell_type": "code",
      "source": [
        "import tensorflow as tf"
      ],
      "metadata": {
        "id": "kCyR5vEYKB-o"
      },
      "execution_count": 4,
      "outputs": []
    },
    {
      "cell_type": "code",
      "source": [
        "tf.version.VERSION"
      ],
      "metadata": {
        "colab": {
          "base_uri": "https://localhost:8080/",
          "height": 37
        },
        "id": "kAugwlugJURm",
        "outputId": "8ef24c81-8613-4eb8-ffe8-fb337e2f1082"
      },
      "execution_count": 5,
      "outputs": [
        {
          "output_type": "execute_result",
          "data": {
            "text/plain": [
              "'2.15.0'"
            ],
            "application/vnd.google.colaboratory.intrinsic+json": {
              "type": "string"
            }
          },
          "metadata": {},
          "execution_count": 5
        }
      ]
    },
    {
      "cell_type": "markdown",
      "source": [
        "Next, import my utility functions from my github."
      ],
      "metadata": {
        "id": "laJq1G9dLiMr"
      }
    },
    {
      "cell_type": "code",
      "execution_count": 6,
      "metadata": {
        "colab": {
          "base_uri": "https://localhost:8080/"
        },
        "id": "4eOgVM2K9vHD",
        "outputId": "57949e46-612d-4541-fd81-ee6ede6989fc"
      },
      "outputs": [
        {
          "output_type": "stream",
          "name": "stdout",
          "text": [
            "--2024-12-26 07:02:45--  https://raw.githubusercontent.com/ZYWZong/ML_Practice_Projects/refs/heads/main/SkimLit_project_practice/SkimLit_utils.py\n",
            "Resolving raw.githubusercontent.com (raw.githubusercontent.com)... 185.199.108.133, 185.199.109.133, 185.199.110.133, ...\n",
            "Connecting to raw.githubusercontent.com (raw.githubusercontent.com)|185.199.108.133|:443... connected.\n",
            "HTTP request sent, awaiting response... 200 OK\n",
            "Length: 8052 (7.9K) [text/plain]\n",
            "Saving to: ‘SkimLit_utils.py.1’\n",
            "\n",
            "SkimLit_utils.py.1  100%[===================>]   7.86K  --.-KB/s    in 0s      \n",
            "\n",
            "2024-12-26 07:02:45 (86.9 MB/s) - ‘SkimLit_utils.py.1’ saved [8052/8052]\n",
            "\n"
          ]
        }
      ],
      "source": [
        "!wget https://raw.githubusercontent.com/ZYWZong/ML_Practice_Projects/refs/heads/main/SkimLit_project_practice/SkimLit_utils.py\n",
        "\n",
        "from SkimLit_utils import *"
      ]
    },
    {
      "cell_type": "markdown",
      "source": [
        "### 1.1.3 Load and preprocess data"
      ],
      "metadata": {
        "id": "dl_esJYmJW_V"
      }
    },
    {
      "cell_type": "code",
      "source": [
        "!git clone https://github.com/Franck-Dernoncourt/pubmed-rct.git\n",
        "!ls pubmed-rct"
      ],
      "metadata": {
        "colab": {
          "base_uri": "https://localhost:8080/"
        },
        "id": "JLfXnLxSGA1p",
        "outputId": "605c9fe1-c2e3-40b5-a0fa-51afba0f6fa2"
      },
      "execution_count": 7,
      "outputs": [
        {
          "output_type": "stream",
          "name": "stdout",
          "text": [
            "fatal: destination path 'pubmed-rct' already exists and is not an empty directory.\n",
            "PubMed_200k_RCT\t\t\t\t       PubMed_20k_RCT_numbers_replaced_with_at_sign\n",
            "PubMed_200k_RCT_numbers_replaced_with_at_sign  README.md\n",
            "PubMed_20k_RCT\n"
          ]
        }
      ]
    },
    {
      "cell_type": "code",
      "source": [
        "data_dir = \"pubmed-rct/PubMed_20k_RCT_numbers_replaced_with_at_sign/\"\n",
        "\n",
        "train_df, dev_df, test_df = SkimLit_preprocess_master(data_dir)\n",
        "data_all = SkimLit_preprocess_OneHot_NN(train_df, dev_df, test_df)\n",
        "\n",
        "train_sentences = data_all[\"train_text\"]\n",
        "dev_sentences = data_all[\"dev_text\"]\n",
        "test_sentences = data_all[\"test_text\"]\n",
        "\n",
        "train_labels_one_hot = data_all[\"train_label\"]\n",
        "dev_labels_one_hot = data_all[\"dev_label\"]\n",
        "test_labels_one_hot = data_all[\"test_label\"]"
      ],
      "metadata": {
        "id": "b8IKJcZnFugp"
      },
      "execution_count": 8,
      "outputs": []
    },
    {
      "cell_type": "markdown",
      "source": [
        "Further, to make our later CNN models run faster, let us batch the data."
      ],
      "metadata": {
        "id": "rs-ifhaE44yZ"
      }
    },
    {
      "cell_type": "code",
      "source": [
        "train_data = tf.data.Dataset.from_tensor_slices((train_sentences,\n",
        "                                                   train_labels_one_hot))\n",
        "dev_data = tf.data.Dataset.from_tensor_slices((dev_sentences,\n",
        "                                                 dev_labels_one_hot))\n",
        "test_data = tf.data.Dataset.from_tensor_slices((test_sentences,\n",
        "                                                  test_labels_one_hot))\n",
        "\n",
        "train_data = train_data.batch(32).prefetch(tf.data.AUTOTUNE)\n",
        "dev_data = dev_data.batch(32).prefetch(tf.data.AUTOTUNE)\n",
        "test_data = test_data.batch(32).prefetch(tf.data.AUTOTUNE)"
      ],
      "metadata": {
        "id": "oU_VIwyM4345"
      },
      "execution_count": 9,
      "outputs": []
    },
    {
      "cell_type": "markdown",
      "source": [
        "## 1.2 Token embeddings"
      ],
      "metadata": {
        "id": "00pjHnMeoDER"
      }
    },
    {
      "cell_type": "markdown",
      "source": [
        "In this section, I will employ a customize token and a pretrained token embeddings. The CNN model in section 1.3 will use these two different token embeddings, and we will see how the model performs with the two embeddings."
      ],
      "metadata": {
        "id": "SSkvKhlr5T-u"
      }
    },
    {
      "cell_type": "markdown",
      "source": [
        "### 1.2.1 Prepare for token embeddings"
      ],
      "metadata": {
        "id": "0b7xTDh--3u9"
      }
    },
    {
      "cell_type": "markdown",
      "source": [
        "Before we construct the token embeddings, we need first to know:\n",
        "\n",
        "1.   How many unique tokens (words), including special characters such as \".\" and \"@\", are there in our dataset?\n",
        "2.   What is the distribution of the lengths of our sentences?\n",
        "\n",
        "Let's answer these two questions first."
      ],
      "metadata": {
        "id": "U51JsEe7-9VR"
      }
    },
    {
      "cell_type": "code",
      "source": [
        "import multiprocessing\n",
        "\n",
        "def word_set(sentences):\n",
        "    \"\"\"\n",
        "    Process sentences to extract unique words.\n",
        "\n",
        "    Argument:\n",
        "        sentences (list): list of sentences\n",
        "\n",
        "    Return:\n",
        "        a set of unique words in the sentences\n",
        "    \"\"\"\n",
        "    unique_words = set()\n",
        "    for sentence in sentences:\n",
        "        for word in sentence.split():\n",
        "            unique_words.add(word)\n",
        "    return unique_words\n",
        "\n",
        "def unique_words(train_sentences, dev_sentences, test_sentences):\n",
        "    \"\"\"\n",
        "    Find the number of unique words in the train, dev, and test sentences using multiprocessing.\n",
        "\n",
        "    Argument:\n",
        "        train_sentences (list): train sentences\n",
        "        dev_sentences (list): development sentences\n",
        "        test_sentences (list): test sentences\n",
        "\n",
        "    Return:\n",
        "        a dictionary containing the number of unique words for train, dev, and test data\n",
        "    \"\"\"\n",
        "    with multiprocessing.Pool(processes=multiprocessing.cpu_count()) as pool:\n",
        "        # process the sentences in parallel\n",
        "        result = pool.map(word_set, [train_sentences, dev_sentences, test_sentences])\n",
        "\n",
        "    unique_words_train, unique_words_dev, unique_words_test = result\n",
        "\n",
        "    return {\"train\": len(unique_words_train),\n",
        "            \"dev\": len(unique_words_dev),\n",
        "            \"test\": len(unique_words_test)}"
      ],
      "metadata": {
        "id": "jr-gOhll5x0k"
      },
      "execution_count": 10,
      "outputs": []
    },
    {
      "cell_type": "code",
      "source": [
        "words_len = unique_words(train_sentences, dev_sentences, test_sentences)\n",
        "\n",
        "print(words_len)"
      ],
      "metadata": {
        "colab": {
          "base_uri": "https://localhost:8080/"
        },
        "id": "P0a3lR2H9VWZ",
        "outputId": "1ece7786-290f-4c7e-9dff-e4b9c715bbb0"
      },
      "execution_count": 11,
      "outputs": [
        {
          "output_type": "stream",
          "name": "stdout",
          "text": [
            "{'train': 69732, 'dev': 26276, 'test': 26069}\n"
          ]
        }
      ]
    },
    {
      "cell_type": "markdown",
      "source": [
        "So, our training set contains 69732 unique words."
      ],
      "metadata": {
        "id": "7-sTmd2oAGsH"
      }
    },
    {
      "cell_type": "markdown",
      "source": [
        "Let's see the distribution of the lengths of the training sentences."
      ],
      "metadata": {
        "id": "cUcbFlZ-Av2e"
      }
    },
    {
      "cell_type": "code",
      "source": [
        "sent_lens = [len(sentence.split()) for sentence in train_sentences]\n",
        "\n",
        "height_ = int(14e4)\n",
        "Percentile95 = int(np.percentile(sent_lens, 95))\n",
        "\n",
        "plt.hist(sent_lens, bins=9, color = \"forestgreen\")\n",
        "plt.vlines(Percentile95,\n",
        "           ymin = 0, ymax = height_,\n",
        "           color = \"red\", linewidth = 2.0, linestyle = \"--\",\n",
        "           label = f\"95 percentile ({Percentile95})\")\n",
        "plt.xlabel(\"length of sentences\")\n",
        "plt.ylabel(\"number of sentences\")\n",
        "plt.title(\"Distribution of the lengths of train sentences\")\n",
        "plt.legend()\n",
        "plt.show();"
      ],
      "metadata": {
        "colab": {
          "base_uri": "https://localhost:8080/",
          "height": 472
        },
        "id": "2yGHkPg7A3vB",
        "outputId": "04a776b1-3efc-4c36-ab61-a627bc66c754"
      },
      "execution_count": 12,
      "outputs": [
        {
          "output_type": "display_data",
          "data": {
            "text/plain": [
              "<Figure size 640x480 with 1 Axes>"
            ],
            "image/png": "[encoded data removed]"
          },
          "metadata": {}
        }
      ]
    },
    {
      "cell_type": "markdown",
      "source": [
        "From the above histogram, we see that the 95-percentile for the lengths of training sentences is 55. Later in the tokenization process, we will transform all our sentences into the length of 55."
      ],
      "metadata": {
        "id": "k-mFg6iWFzkY"
      }
    },
    {
      "cell_type": "markdown",
      "source": [
        "### 1.2.2 Embedding No.1"
      ],
      "metadata": {
        "id": "bXLpWmOPsAoq"
      }
    },
    {
      "cell_type": "markdown",
      "source": [
        "Similar to what we have done in **notebook00**, let me start with building a customized token vectorization using the `TextVectorization` method in `tensorflow`. For our training set has a total of 69732 unique words, let's use a maximum token of 60000 with a token vector of length 55 of our 95-percentile."
      ],
      "metadata": {
        "id": "bwmZIQMU4sYq"
      }
    },
    {
      "cell_type": "code",
      "source": [
        "from tensorflow.keras.layers import TextVectorization\n",
        "\n",
        "max_tokens = 60000\n",
        "\n",
        "text_vectorizer = TextVectorization(max_tokens=max_tokens,\n",
        "                                    output_sequence_length=Percentile95)\n",
        "\n",
        "text_vectorizer.adapt(train_sentences)"
      ],
      "metadata": {
        "id": "DcrLbcHIQ6dj"
      },
      "execution_count": 13,
      "outputs": []
    },
    {
      "cell_type": "code",
      "source": [
        "# Let's see an example\n",
        "print(train_sentences[77], \"\\n\")\n",
        "print(text_vectorizer(train_sentences[77]))"
      ],
      "metadata": {
        "colab": {
          "base_uri": "https://localhost:8080/"
        },
        "id": "seV8gXo_S524",
        "outputId": "fa309f8c-09c5-4032-9a85-5d44599a8d6c"
      },
      "execution_count": 14,
      "outputs": [
        {
          "output_type": "stream",
          "name": "stdout",
          "text": [
            "mi delivered by providers and rds ( group @ ) resulted in statistically significant reductions in bmi percentile . \n",
            "\n",
            "tf.Tensor(\n",
            "[1180  785   22 1672    3 7463   13  568    5  232   37  626    5  456\n",
            " 3770    0    0    0    0    0    0    0    0    0    0    0    0    0\n",
            "    0    0    0    0    0    0    0    0    0    0    0    0    0    0\n",
            "    0    0    0    0    0    0    0    0    0    0    0    0    0], shape=(55,), dtype=int64)\n"
          ]
        }
      ]
    },
    {
      "cell_type": "code",
      "source": [
        "train_text_vocab = text_vectorizer.get_vocabulary()\n",
        "print(f\"number of words: {len(train_text_vocab)}\"),\n",
        "print(f\"most common words: {train_text_vocab[:10]}\")\n",
        "print(f\"least common words: {train_text_vocab[-5:]}\")"
      ],
      "metadata": {
        "colab": {
          "base_uri": "https://localhost:8080/"
        },
        "id": "brmHHGniTb8y",
        "outputId": "e7649da0-21dc-4be5-a8f2-be21e13f23b9"
      },
      "execution_count": 15,
      "outputs": [
        {
          "output_type": "stream",
          "name": "stdout",
          "text": [
            "number of words: 60000\n",
            "most common words: ['', '[UNK]', 'the', 'and', 'of', 'in', 'to', 'with', 'a', 'were']\n",
            "least common words: ['demise', 'deming', 'demineralizationinduced', 'demineralisation', 'demethylation']\n"
          ]
        }
      ]
    },
    {
      "cell_type": "markdown",
      "source": [
        "Next, we create a token embedding layer using the above text vectorization. This is our Embedding No.1, which will be used in section 1.3 with our CNN model."
      ],
      "metadata": {
        "id": "HtHTssZgWC78"
      }
    },
    {
      "cell_type": "code",
      "source": [
        "token_embed = tf.keras.layers.Embedding(input_dim=len(train_text_vocab),\n",
        "                               output_dim=128,\n",
        "                               mask_zero=True,\n",
        "                               name=\"token_embedding\")"
      ],
      "metadata": {
        "id": "U18iSlrjVNaQ"
      },
      "execution_count": 16,
      "outputs": []
    },
    {
      "cell_type": "markdown",
      "source": [
        "### 1.2.3 Embedding No.2"
      ],
      "metadata": {
        "id": "KVCoLoE_sGJg"
      }
    },
    {
      "cell_type": "markdown",
      "source": [
        "Let us also explore a common pretrained embedding called the `universal sentence encoder`. This is our Embedding No.2."
      ],
      "metadata": {
        "id": "A2LLb0FxWdSM"
      }
    },
    {
      "cell_type": "code",
      "source": [
        "import tensorflow_hub as hub\n",
        "tf_hub_USC_embedding = hub.KerasLayer(\"https://tfhub.dev/google/universal-sentence-encoder/4\",\n",
        "                                        trainable=False,\n",
        "                                        name=\"universal_sentence_encoder\")"
      ],
      "metadata": {
        "id": "ms1PPy6SWUIu"
      },
      "execution_count": 17,
      "outputs": []
    },
    {
      "cell_type": "markdown",
      "source": [
        "## 1.3 Experiments on CNN"
      ],
      "metadata": {
        "id": "MqwKpqyZLsxx"
      }
    },
    {
      "cell_type": "markdown",
      "source": [
        "For the purpose of this practice project, let me only consider a single CNN model and compare how it performs on the two different embedding methods discussed the last section."
      ],
      "metadata": {
        "id": "ioIH3B2NtH5R"
      }
    },
    {
      "cell_type": "markdown",
      "source": [
        "### 1.3.1 Model_E1:"
      ],
      "metadata": {
        "id": "FV02ooo5L9GV"
      }
    },
    {
      "cell_type": "markdown",
      "source": [
        "Let's see how a shallow (2 layers) CNN model performs on the classification task with our customized token embedding."
      ],
      "metadata": {
        "id": "CZcYIrYXo8hd"
      }
    },
    {
      "cell_type": "code",
      "source": [
        "# model_CNN_E1\n",
        "inputs = tf.keras.layers.Input(shape=[1,], dtype=tf.string)\n",
        "text_vectors = text_vectorizer(inputs)\n",
        "vec_embeds = token_embed(text_vectors)\n",
        "x = tf.keras.layers.Conv1D(filters= 32, kernel_size=5, padding=\"same\", activation=\"relu\")(vec_embeds)\n",
        "# using another Conv layer will overfit very quickly\n",
        "#x = tf.keras.layers.Conv1D(filters = 16, kernel_size=3, padding=\"same\", activation=\"relu\")(x)\n",
        "x = tf.keras.layers.GlobalAveragePooling1D()(x)\n",
        "outputs = tf.keras.layers.Dense(5, activation=\"softmax\")(x) # since we have 5 classes\n",
        "model_CNN_E1 = tf.keras.Model(inputs, outputs, name = \"model_CNN_E1\")\n",
        "\n",
        "model_CNN_E1.compile(loss=\"categorical_crossentropy\",\n",
        "                optimizer=tf.keras.optimizers.Adam(),\n",
        "                metrics=[\"accuracy\"])\n",
        "\n",
        "model_CNN_E1.summary()"
      ],
      "metadata": {
        "colab": {
          "base_uri": "https://localhost:8080/"
        },
        "id": "PN-EsA43JPi5",
        "outputId": "45489ebb-4902-4dd5-8047-afe064eb9b9c"
      },
      "execution_count": 18,
      "outputs": [
        {
          "output_type": "stream",
          "name": "stdout",
          "text": [
            "Model: \"model_CNN_E1\"\n",
            "_________________________________________________________________\n",
            " Layer (type)                Output Shape              Param #   \n",
            "=================================================================\n",
            " input_1 (InputLayer)        [(None, 1)]               0         \n",
            "                                                                 \n",
            " text_vectorization (TextVe  (None, 55)                0         \n",
            " ctorization)                                                    \n",
            "                                                                 \n",
            " token_embedding (Embedding  (None, 55, 128)           7680000   \n",
            " )                                                               \n",
            "                                                                 \n",
            " conv1d (Conv1D)             (None, 55, 32)            20512     \n",
            "                                                                 \n",
            " global_average_pooling1d (  (None, 32)                0         \n",
            " GlobalAveragePooling1D)                                         \n",
            "                                                                 \n",
            " dense (Dense)               (None, 5)                 165       \n",
            "                                                                 \n",
            "=================================================================\n",
            "Total params: 7700677 (29.38 MB)\n",
            "Trainable params: 7700677 (29.38 MB)\n",
            "Non-trainable params: 0 (0.00 Byte)\n",
            "_________________________________________________________________\n"
          ]
        }
      ]
    },
    {
      "cell_type": "markdown",
      "source": [
        "Let's fit the model with our training data."
      ],
      "metadata": {
        "id": "xIONIdtOS0qJ"
      }
    },
    {
      "cell_type": "code",
      "source": [
        "model_CNN_E1_history = model_CNN_E1.fit(train_data,\n",
        "                              steps_per_epoch=len(train_data),\n",
        "                              epochs=5,\n",
        "                              validation_data=dev_data,\n",
        "                              validation_steps=len(dev_data))"
      ],
      "metadata": {
        "colab": {
          "base_uri": "https://localhost:8080/"
        },
        "id": "iwNbMk-pM9kM",
        "outputId": "19331d24-8571-4065-9f25-9876c47cc88c"
      },
      "execution_count": 19,
      "outputs": [
        {
          "output_type": "stream",
          "name": "stdout",
          "text": [
            "Epoch 1/5\n",
            "5627/5627 [==============================] - 65s 11ms/step - loss: 0.6231 - accuracy: 0.7735 - val_loss: 0.5390 - val_accuracy: 0.8092\n",
            "Epoch 2/5\n",
            "5627/5627 [==============================] - 40s 7ms/step - loss: 0.4615 - accuracy: 0.8387 - val_loss: 0.5375 - val_accuracy: 0.8093\n",
            "Epoch 3/5\n",
            "5627/5627 [==============================] - 41s 7ms/step - loss: 0.3881 - accuracy: 0.8666 - val_loss: 0.5649 - val_accuracy: 0.8061\n",
            "Epoch 4/5\n",
            "5627/5627 [==============================] - 41s 7ms/step - loss: 0.3301 - accuracy: 0.8891 - val_loss: 0.6112 - val_accuracy: 0.8012\n",
            "Epoch 5/5\n",
            "5627/5627 [==============================] - 43s 8ms/step - loss: 0.2815 - accuracy: 0.9078 - val_loss: 0.6718 - val_accuracy: 0.7945\n"
          ]
        }
      ]
    },
    {
      "cell_type": "code",
      "source": [
        "plot_loss_and_accuracy(model_CNN_E1_history)"
      ],
      "metadata": {
        "colab": {
          "base_uri": "https://localhost:8080/",
          "height": 507
        },
        "id": "s2wBV9A5QiiY",
        "outputId": "72c76251-fcc1-4793-ac9d-2ecc44486bb6"
      },
      "execution_count": 20,
      "outputs": [
        {
          "output_type": "display_data",
          "data": {
            "text/plain": [
              "<Figure size 1200x500 with 2 Axes>"
            ],
            "image/png": "[encoded data removed]"
          },
          "metadata": {}
        }
      ]
    },
    {
      "cell_type": "markdown",
      "source": [
        "From the above loss and accuracy plot, we see that our model is already overfitting from epoch 3. So, we should stop training at the end of epoch 2. Of course, we can attempt fine-tuning other hyperparameters such as learning rate to improve our model from epoch 2. However, for the purpose of this practice project, I'll stop here."
      ],
      "metadata": {
        "id": "RRlwV-vqhr1I"
      }
    },
    {
      "cell_type": "markdown",
      "source": [
        "### 1.3.2 Model_E2:"
      ],
      "metadata": {
        "id": "gUFABuZ9n9J3"
      }
    },
    {
      "cell_type": "markdown",
      "source": [
        "Let's move on to build models using the `universal sentence encoder` embedding layer."
      ],
      "metadata": {
        "id": "ghTdSx5dhb_-"
      }
    },
    {
      "cell_type": "markdown",
      "source": [
        "#### 1.3.2.1 CNN model"
      ],
      "metadata": {
        "id": "uTT2Tx_MWOBz"
      }
    },
    {
      "cell_type": "code",
      "source": [
        "# Model_CNN_E2\n",
        "inputs = tf.keras.layers.Input(shape=[], dtype=tf.string)\n",
        "USC_embeds = tf_hub_USC_embedding(inputs) # here we use the universal sentence encoder\n",
        "x = tf.keras.layers.Reshape((USC_embeds.shape[-1], 1))(USC_embeds)\n",
        "x = tf.keras.layers.Conv1D(filters = 32, kernel_size=5, padding=\"same\", activation=\"relu\")(x)\n",
        "#x = tf.keras.layers.Conv1D(filters = 16, kernel_size=3, padding=\"same\", activation=\"relu\")(x)\n",
        "x = tf.keras.layers.GlobalMaxPooling1D()(x)\n",
        "outputs = tf.keras.layers.Dense(5, activation=\"softmax\")(x)\n",
        "model_CNN_E2 = tf.keras.Model(inputs,outputs,name = \"model_CNN_E2\")\n",
        "\n",
        "model_CNN_E2.compile(loss=\"categorical_crossentropy\",\n",
        "                optimizer=tf.keras.optimizers.Adam(),\n",
        "                metrics=[\"accuracy\"])\n",
        "\n",
        "model_CNN_E2.summary()"
      ],
      "metadata": {
        "colab": {
          "base_uri": "https://localhost:8080/"
        },
        "id": "8SKINVqvL1cJ",
        "outputId": "23ce5cc8-84c0-4bde-ea55-0bb42acb3e66"
      },
      "execution_count": 21,
      "outputs": [
        {
          "output_type": "stream",
          "name": "stdout",
          "text": [
            "Model: \"model_CNN_E2\"\n",
            "_________________________________________________________________\n",
            " Layer (type)                Output Shape              Param #   \n",
            "=================================================================\n",
            " input_2 (InputLayer)        [(None,)]                 0         \n",
            "                                                                 \n",
            " universal_sentence_encoder  (None, 512)               256797824 \n",
            "  (KerasLayer)                                                   \n",
            "                                                                 \n",
            " reshape (Reshape)           (None, 512, 1)            0         \n",
            "                                                                 \n",
            " conv1d_1 (Conv1D)           (None, 512, 32)           192       \n",
            "                                                                 \n",
            " global_max_pooling1d (Glob  (None, 32)                0         \n",
            " alMaxPooling1D)                                                 \n",
            "                                                                 \n",
            " dense_1 (Dense)             (None, 5)                 165       \n",
            "                                                                 \n",
            "=================================================================\n",
            "Total params: 256798181 (979.61 MB)\n",
            "Trainable params: 357 (1.39 KB)\n",
            "Non-trainable params: 256797824 (979.61 MB)\n",
            "_________________________________________________________________\n"
          ]
        }
      ]
    },
    {
      "cell_type": "code",
      "source": [
        "model_CNN_E2_history = model_CNN_E2.fit(train_data,\n",
        "                              steps_per_epoch=len(train_data),\n",
        "                              epochs=5,\n",
        "                              validation_data=dev_data,\n",
        "                              validation_steps=len(dev_data))"
      ],
      "metadata": {
        "colab": {
          "base_uri": "https://localhost:8080/"
        },
        "id": "uyKuRGItR5EK",
        "outputId": "a96a57f2-3984-4908-8413-512c3066dd3c"
      },
      "execution_count": 22,
      "outputs": [
        {
          "output_type": "stream",
          "name": "stdout",
          "text": [
            "Epoch 1/5\n",
            "5627/5627 [==============================] - 96s 16ms/step - loss: 1.4697 - accuracy: 0.3312 - val_loss: 1.4656 - val_accuracy: 0.3559\n",
            "Epoch 2/5\n",
            "5627/5627 [==============================] - 89s 16ms/step - loss: 1.4673 - accuracy: 0.3349 - val_loss: 1.4638 - val_accuracy: 0.3688\n",
            "Epoch 3/5\n",
            "5627/5627 [==============================] - 87s 15ms/step - loss: 1.4651 - accuracy: 0.3413 - val_loss: 1.4609 - val_accuracy: 0.3660\n",
            "Epoch 4/5\n",
            "5627/5627 [==============================] - 98s 17ms/step - loss: 1.4616 - accuracy: 0.3493 - val_loss: 1.4566 - val_accuracy: 0.3663\n",
            "Epoch 5/5\n",
            "5627/5627 [==============================] - 88s 16ms/step - loss: 1.4570 - accuracy: 0.3575 - val_loss: 1.4513 - val_accuracy: 0.3689\n"
          ]
        }
      ]
    },
    {
      "cell_type": "code",
      "source": [
        "plot_loss_and_accuracy(model_CNN_E2_history)"
      ],
      "metadata": {
        "colab": {
          "base_uri": "https://localhost:8080/",
          "height": 507
        },
        "id": "o-loAsTUYEil",
        "outputId": "90387f2e-cdaa-4f29-84e5-eaea7b3ea06e"
      },
      "execution_count": 23,
      "outputs": [
        {
          "output_type": "display_data",
          "data": {
            "text/plain": [
              "<Figure size 1200x500 with 2 Axes>"
            ],
            "image/png": "[encoded data removed]"
          },
          "metadata": {}
        }
      ]
    },
    {
      "cell_type": "markdown",
      "source": [
        "With the `universal sentence encoder` token embedding layer, we see that our model trains very slowly but making steady progress towards better accuracy and lower loss for both the training and develpment sets. The reason for such slow progress compared to `Model_CNN_E1` is due to the fact that `universal sentence encoder` yields a larger token vector of dimension 512. In contrast, our customized token embedding has a dimension of only 55. In interest of time, I'll stop training this model at epoch 5."
      ],
      "metadata": {
        "id": "9P0SPC0uiRfj"
      }
    },
    {
      "cell_type": "markdown",
      "source": [
        "#### 1.3.2.2 Dense model"
      ],
      "metadata": {
        "id": "0YfvXJs7WTXa"
      }
    },
    {
      "cell_type": "markdown",
      "source": [
        "Just out of curiousity, let's see how the `universal sentence encoder` performs on a simple dense model."
      ],
      "metadata": {
        "id": "vvwGBi5hjfHv"
      }
    },
    {
      "cell_type": "code",
      "source": [
        "# Model_Dense_E2_2\n",
        "inputs = tf.keras.layers.Input(shape=[], dtype=tf.string)\n",
        "USC_embeds = tf_hub_USC_embedding(inputs) # here we use the universal sentence encoder\n",
        "x = tf.keras.layers.Dense(32)(USC_embeds)\n",
        "outputs = tf.keras.layers.Dense(5, activation=\"softmax\")(x)\n",
        "model_Dense_E2_2 = tf.keras.Model(inputs,outputs,name = \"model_CNN_E2_2\")\n",
        "\n",
        "model_Dense_E2_2.compile(loss=\"categorical_crossentropy\",\n",
        "                optimizer=tf.keras.optimizers.Adam(),\n",
        "                metrics=[\"accuracy\"])\n",
        "\n",
        "model_Dense_E2_2.summary()"
      ],
      "metadata": {
        "colab": {
          "base_uri": "https://localhost:8080/"
        },
        "id": "RjKnCQ_kVmwb",
        "outputId": "5e453955-46f0-4345-a81e-5610bfb75198"
      },
      "execution_count": 24,
      "outputs": [
        {
          "output_type": "stream",
          "name": "stdout",
          "text": [
            "Model: \"model_CNN_E2_2\"\n",
            "_________________________________________________________________\n",
            " Layer (type)                Output Shape              Param #   \n",
            "=================================================================\n",
            " input_3 (InputLayer)        [(None,)]                 0         \n",
            "                                                                 \n",
            " universal_sentence_encoder  (None, 512)               256797824 \n",
            "  (KerasLayer)                                                   \n",
            "                                                                 \n",
            " dense_2 (Dense)             (None, 32)                16416     \n",
            "                                                                 \n",
            " dense_3 (Dense)             (None, 5)                 165       \n",
            "                                                                 \n",
            "=================================================================\n",
            "Total params: 256814405 (979.67 MB)\n",
            "Trainable params: 16581 (64.77 KB)\n",
            "Non-trainable params: 256797824 (979.61 MB)\n",
            "_________________________________________________________________\n"
          ]
        }
      ]
    },
    {
      "cell_type": "code",
      "source": [
        "model_Dense_E2_2_history = model_Dense_E2_2.fit(train_data,\n",
        "                              steps_per_epoch=len(train_data),\n",
        "                              epochs=5,\n",
        "                              validation_data=dev_data,\n",
        "                              validation_steps=len(dev_data))"
      ],
      "metadata": {
        "colab": {
          "base_uri": "https://localhost:8080/"
        },
        "id": "069CrJqVV63e",
        "outputId": "b5338322-15fc-407d-ee32-1ecd4988793f"
      },
      "execution_count": 25,
      "outputs": [
        {
          "output_type": "stream",
          "name": "stdout",
          "text": [
            "Epoch 1/5\n",
            "5627/5627 [==============================] - 87s 15ms/step - loss: 0.7963 - accuracy: 0.6943 - val_loss: 0.7551 - val_accuracy: 0.7104\n",
            "Epoch 2/5\n",
            "5627/5627 [==============================] - 87s 15ms/step - loss: 0.7575 - accuracy: 0.7098 - val_loss: 0.7474 - val_accuracy: 0.7131\n",
            "Epoch 3/5\n",
            "5627/5627 [==============================] - 87s 15ms/step - loss: 0.7514 - accuracy: 0.7124 - val_loss: 0.7438 - val_accuracy: 0.7149\n",
            "Epoch 4/5\n",
            "5627/5627 [==============================] - 87s 15ms/step - loss: 0.7480 - accuracy: 0.7140 - val_loss: 0.7418 - val_accuracy: 0.7159\n",
            "Epoch 5/5\n",
            "5627/5627 [==============================] - 97s 17ms/step - loss: 0.7459 - accuracy: 0.7148 - val_loss: 0.7405 - val_accuracy: 0.7168\n"
          ]
        }
      ]
    },
    {
      "cell_type": "code",
      "source": [
        "plot_loss_and_accuracy(model_Dense_E2_2_history)"
      ],
      "metadata": {
        "colab": {
          "base_uri": "https://localhost:8080/",
          "height": 507
        },
        "id": "Nf2zqlbuX6Sv",
        "outputId": "6d5c9c6b-15b5-49c9-c25f-d5a497ed8ea7"
      },
      "execution_count": 26,
      "outputs": [
        {
          "output_type": "display_data",
          "data": {
            "text/plain": [
              "<Figure size 1200x500 with 2 Axes>"
            ],
            "image/png": "[encoded data removed]"
          },
          "metadata": {}
        }
      ]
    },
    {
      "cell_type": "markdown",
      "source": [
        "So, our dense model gets a good result more quickly comparing to our CNN model for the `universal sentence encoder` token embedding."
      ],
      "metadata": {
        "id": "3HXq9n8FkNi9"
      }
    },
    {
      "cell_type": "markdown",
      "source": [
        "### 1.3.3 Model comparison"
      ],
      "metadata": {
        "id": "Wwt4-0vPrVDF"
      }
    },
    {
      "cell_type": "markdown",
      "source": [
        "Since the purpose of this notebook is to find the best CNN model, based on the accuracy we have here, I select `model_CNN_E1` as our current best CNN model."
      ],
      "metadata": {
        "id": "jlGiwB39rnko"
      }
    },
    {
      "cell_type": "markdown",
      "source": [
        "## 1.4 The final CNN model"
      ],
      "metadata": {
        "id": "Uw-0dqkie0wb"
      }
    },
    {
      "cell_type": "markdown",
      "source": [
        "Let's see how our best CNN model performs on the development dataset."
      ],
      "metadata": {
        "id": "aXc91pVmqcZL"
      }
    },
    {
      "cell_type": "code",
      "source": [
        "def final_CNN_model():\n",
        "  \"\"\"\n",
        "  Wrapper function for model_CNN_E1.\n",
        "  Argument:\n",
        "    None\n",
        "  Return:\n",
        "    model_CNN_E1 (tf.keras.Model): our CNN model\n",
        "  \"\"\"\n",
        "  # model_CNN_E1\n",
        "  inputs = tf.keras.layers.Input(shape=[1,], dtype=tf.string)\n",
        "  text_vectors = text_vectorizer(inputs)\n",
        "  vec_embeds = token_embed(text_vectors)\n",
        "  x = tf.keras.layers.Conv1D(filters= 32, kernel_size=5, padding=\"same\", activation=\"relu\")(vec_embeds)\n",
        "  x = tf.keras.layers.GlobalAveragePooling1D()(x)\n",
        "  outputs = tf.keras.layers.Dense(5, activation=\"softmax\")(x)\n",
        "  model_CNN_E1 = tf.keras.Model(inputs, outputs, name = \"model_CNN_E1\")\n",
        "\n",
        "  model_CNN_E1.compile(loss=\"categorical_crossentropy\",\n",
        "                  optimizer=tf.keras.optimizers.Adam(),\n",
        "                  metrics=[\"accuracy\"])\n",
        "  return model_CNN_E1\n",
        "\n",
        "model_CNN_final = final_CNN_model()\n",
        "model_CNN_final.fit(train_data,\n",
        "                    steps_per_epoch=len(train_data),\n",
        "                    epochs=2,\n",
        "                    validation_data=dev_data,\n",
        "                    validation_steps=len(dev_data),\n",
        "                    verbose=0)\n",
        "\n",
        "model_CNN_final_pred_probs = model_CNN_final.predict(dev_data, verbose=0)"
      ],
      "metadata": {
        "id": "CVwnBlfke2-D"
      },
      "execution_count": 27,
      "outputs": []
    },
    {
      "cell_type": "code",
      "source": [
        "# Get the dev labels to compute evaluation scores\n",
        "dev_labels_encoded = SkimLit_preprocess_EncodedLabels(train_df, dev_df, test_df)[\"dev_label\"]\n",
        "\n",
        "# Get the final predicted classes\n",
        "model_CNN_final_preds = tf.argmax(model_CNN_final_pred_probs, axis=1).numpy()"
      ],
      "metadata": {
        "id": "QWpTEbm0nlv_"
      },
      "execution_count": 28,
      "outputs": []
    },
    {
      "cell_type": "code",
      "source": [
        "model_CNN_final_results = perform_evaluations(y_true=dev_labels_encoded,\n",
        "                                              y_pred=model_CNN_final_preds,\n",
        "                                              model_name = \"model_CNN_final\")\n",
        "\n",
        "model_CNN_final_results_df = pd.DataFrame(model_CNN_final_results)\n",
        "\n",
        "model_CNN_final_results_df"
      ],
      "metadata": {
        "colab": {
          "base_uri": "https://localhost:8080/",
          "height": 175
        },
        "id": "T_lUd90roNLn",
        "outputId": "45d103cc-680d-425e-b6b9-ff835aa2cd8e"
      },
      "execution_count": 29,
      "outputs": [
        {
          "output_type": "execute_result",
          "data": {
            "text/plain": [
              "      Metric  model_CNN_final\n",
              "0   Accuracy            78.74\n",
              "1  Precision            78.39\n",
              "2     Recall            78.74\n",
              "3   F1-score            78.45"
            ],
            "text/html": [
              "\n",
              "  <div id=\"df-d21e8983-f5b2-46ed-add6-af47e4e5870c\" class=\"colab-df-container\">\n",
              "    <div>\n",
              "<style scoped>\n",
              "    .dataframe tbody tr th:only-of-type {\n",
              "        vertical-align: middle;\n",
              "    }\n",
              "\n",
              "    .dataframe tbody tr th {\n",
              "        vertical-align: top;\n",
              "    }\n",
              "\n",
              "    .dataframe thead th {\n",
              "        text-align: right;\n",
              "    }\n",
              "</style>\n",
              "<table border=\"1\" class=\"dataframe\">\n",
              "  <thead>\n",
              "    <tr style=\"text-align: right;\">\n",
              "      <th></th>\n",
              "      <th>Metric</th>\n",
              "      <th>model_CNN_final</th>\n",
              "    </tr>\n",
              "  </thead>\n",
              "  <tbody>\n",
              "    <tr>\n",
              "      <th>0</th>\n",
              "      <td>Accuracy</td>\n",
              "      <td>78.74</td>\n",
              "    </tr>\n",
              "    <tr>\n",
              "      <th>1</th>\n",
              "      <td>Precision</td>\n",
              "      <td>78.39</td>\n",
              "    </tr>\n",
              "    <tr>\n",
              "      <th>2</th>\n",
              "      <td>Recall</td>\n",
              "      <td>78.74</td>\n",
              "    </tr>\n",
              "    <tr>\n",
              "      <th>3</th>\n",
              "      <td>F1-score</td>\n",
              "      <td>78.45</td>\n",
              "    </tr>\n",
              "  </tbody>\n",
              "</table>\n",
              "</div>\n",
              "    <div class=\"colab-df-buttons\">\n",
              "\n",
              "  <div class=\"colab-df-container\">\n",
              "    <button class=\"colab-df-convert\" onclick=\"convertToInteractive('df-d21e8983-f5b2-46ed-add6-af47e4e5870c')\"\n",
              "            title=\"Convert this dataframe to an interactive table.\"\n",
              "            style=\"display:none;\">\n",
              "\n",
              "  <svg xmlns=\"http://www.w3.org/2000/svg\" height=\"24px\" viewBox=\"0 -960 960 960\">\n",
              "    <path d=\"M120-120v-720h720v720H120Zm60-500h600v-160H180v160Zm220 220h160v-160H400v160Zm0 220h160v-160H400v160ZM180-400h160v-160H180v160Zm440 0h160v-160H620v160ZM180-180h160v-160H180v160Zm440 0h160v-160H620v160Z\"/>\n",
              "  </svg>\n",
              "    </button>\n",
              "\n",
              "  <style>\n",
              "    .colab-df-container {\n",
              "      display:flex;\n",
              "      gap: 12px;\n",
              "    }\n",
              "\n",
              "    .colab-df-convert {\n",
              "      background-color: #E8F0FE;\n",
              "      border: none;\n",
              "      border-radius: 50%;\n",
              "      cursor: pointer;\n",
              "      display: none;\n",
              "      fill: #1967D2;\n",
              "      height: 32px;\n",
              "      padding: 0 0 0 0;\n",
              "      width: 32px;\n",
              "    }\n",
              "\n",
              "    .colab-df-convert:hover {\n",
              "      background-color: #E2EBFA;\n",
              "      box-shadow: 0px 1px 2px rgba(60, 64, 67, 0.3), 0px 1px 3px 1px rgba(60, 64, 67, 0.15);\n",
              "      fill: #174EA6;\n",
              "    }\n",
              "\n",
              "    .colab-df-buttons div {\n",
              "      margin-bottom: 4px;\n",
              "    }\n",
              "\n",
              "    [theme=dark] .colab-df-convert {\n",
              "      background-color: #3B4455;\n",
              "      fill: #D2E3FC;\n",
              "    }\n",
              "\n",
              "    [theme=dark] .colab-df-convert:hover {\n",
              "      background-color: #434B5C;\n",
              "      box-shadow: 0px 1px 3px 1px rgba(0, 0, 0, 0.15);\n",
              "      filter: drop-shadow(0px 1px 2px rgba(0, 0, 0, 0.3));\n",
              "      fill: #FFFFFF;\n",
              "    }\n",
              "  </style>\n",
              "\n",
              "    <script>\n",
              "      const buttonEl =\n",
              "        document.querySelector('#df-d21e8983-f5b2-46ed-add6-af47e4e5870c button.colab-df-convert');\n",
              "      buttonEl.style.display =\n",
              "        google.colab.kernel.accessAllowed ? 'block' : 'none';\n",
              "\n",
              "      async function convertToInteractive(key) {\n",
              "        const element = document.querySelector('#df-d21e8983-f5b2-46ed-add6-af47e4e5870c');\n",
              "        const dataTable =\n",
              "          await google.colab.kernel.invokeFunction('convertToInteractive',\n",
              "                                                    [key], {});\n",
              "        if (!dataTable) return;\n",
              "\n",
              "        const docLinkHtml = 'Like what you see? Visit the ' +\n",
              "          '<a target=\"_blank\" href=https://colab.research.google.com/notebooks/data_table.ipynb>data table notebook</a>'\n",
              "          + ' to learn more about interactive tables.';\n",
              "        element.innerHTML = '';\n",
              "        dataTable['output_type'] = 'display_data';\n",
              "        await google.colab.output.renderOutput(dataTable, element);\n",
              "        const docLink = document.createElement('div');\n",
              "        docLink.innerHTML = docLinkHtml;\n",
              "        element.appendChild(docLink);\n",
              "      }\n",
              "    </script>\n",
              "  </div>\n",
              "\n",
              "\n",
              "<div id=\"df-165e5602-64bc-4f71-8fd0-641f0d68c77b\">\n",
              "  <button class=\"colab-df-quickchart\" onclick=\"quickchart('df-165e5602-64bc-4f71-8fd0-641f0d68c77b')\"\n",
              "            title=\"Suggest charts\"\n",
              "            style=\"display:none;\">\n",
              "\n",
              "<svg xmlns=\"http://www.w3.org/2000/svg\" height=\"24px\"viewBox=\"0 0 24 24\"\n",
              "     width=\"24px\">\n",
              "    <g>\n",
              "        <path d=\"M19 3H5c-1.1 0-2 .9-2 2v14c0 1.1.9 2 2 2h14c1.1 0 2-.9 2-2V5c0-1.1-.9-2-2-2zM9 17H7v-7h2v7zm4 0h-2V7h2v10zm4 0h-2v-4h2v4z\"/>\n",
              "    </g>\n",
              "</svg>\n",
              "  </button>\n",
              "\n",
              "<style>\n",
              "  .colab-df-quickchart {\n",
              "      --bg-color: #E8F0FE;\n",
              "      --fill-color: #1967D2;\n",
              "      --hover-bg-color: #E2EBFA;\n",
              "      --hover-fill-color: #174EA6;\n",
              "      --disabled-fill-color: #AAA;\n",
              "      --disabled-bg-color: #DDD;\n",
              "  }\n",
              "\n",
              "  [theme=dark] .colab-df-quickchart {\n",
              "      --bg-color: #3B4455;\n",
              "      --fill-color: #D2E3FC;\n",
              "      --hover-bg-color: #434B5C;\n",
              "      --hover-fill-color: #FFFFFF;\n",
              "      --disabled-bg-color: #3B4455;\n",
              "      --disabled-fill-color: #666;\n",
              "  }\n",
              "\n",
              "  .colab-df-quickchart {\n",
              "    background-color: var(--bg-color);\n",
              "    border: none;\n",
              "    border-radius: 50%;\n",
              "    cursor: pointer;\n",
              "    display: none;\n",
              "    fill: var(--fill-color);\n",
              "    height: 32px;\n",
              "    padding: 0;\n",
              "    width: 32px;\n",
              "  }\n",
              "\n",
              "  .colab-df-quickchart:hover {\n",
              "    background-color: var(--hover-bg-color);\n",
              "    box-shadow: 0 1px 2px rgba(60, 64, 67, 0.3), 0 1px 3px 1px rgba(60, 64, 67, 0.15);\n",
              "    fill: var(--button-hover-fill-color);\n",
              "  }\n",
              "\n",
              "  .colab-df-quickchart-complete:disabled,\n",
              "  .colab-df-quickchart-complete:disabled:hover {\n",
              "    background-color: var(--disabled-bg-color);\n",
              "    fill: var(--disabled-fill-color);\n",
              "    box-shadow: none;\n",
              "  }\n",
              "\n",
              "  .colab-df-spinner {\n",
              "    border: 2px solid var(--fill-color);\n",
              "    border-color: transparent;\n",
              "    border-bottom-color: var(--fill-color);\n",
              "    animation:\n",
              "      spin 1s steps(1) infinite;\n",
              "  }\n",
              "\n",
              "  @keyframes spin {\n",
              "    0% {\n",
              "      border-color: transparent;\n",
              "      border-bottom-color: var(--fill-color);\n",
              "      border-left-color: var(--fill-color);\n",
              "    }\n",
              "    20% {\n",
              "      border-color: transparent;\n",
              "      border-left-color: var(--fill-color);\n",
              "      border-top-color: var(--fill-color);\n",
              "    }\n",
              "    30% {\n",
              "      border-color: transparent;\n",
              "      border-left-color: var(--fill-color);\n",
              "      border-top-color: var(--fill-color);\n",
              "      border-right-color: var(--fill-color);\n",
              "    }\n",
              "    40% {\n",
              "      border-color: transparent;\n",
              "      border-right-color: var(--fill-color);\n",
              "      border-top-color: var(--fill-color);\n",
              "    }\n",
              "    60% {\n",
              "      border-color: transparent;\n",
              "      border-right-color: var(--fill-color);\n",
              "    }\n",
              "    80% {\n",
              "      border-color: transparent;\n",
              "      border-right-color: var(--fill-color);\n",
              "      border-bottom-color: var(--fill-color);\n",
              "    }\n",
              "    90% {\n",
              "      border-color: transparent;\n",
              "      border-bottom-color: var(--fill-color);\n",
              "    }\n",
              "  }\n",
              "</style>\n",
              "\n",
              "  <script>\n",
              "    async function quickchart(key) {\n",
              "      const quickchartButtonEl =\n",
              "        document.querySelector('#' + key + ' button');\n",
              "      quickchartButtonEl.disabled = true;  // To prevent multiple clicks.\n",
              "      quickchartButtonEl.classList.add('colab-df-spinner');\n",
              "      try {\n",
              "        const charts = await google.colab.kernel.invokeFunction(\n",
              "            'suggestCharts', [key], {});\n",
              "      } catch (error) {\n",
              "        console.error('Error during call to suggestCharts:', error);\n",
              "      }\n",
              "      quickchartButtonEl.classList.remove('colab-df-spinner');\n",
              "      quickchartButtonEl.classList.add('colab-df-quickchart-complete');\n",
              "    }\n",
              "    (() => {\n",
              "      let quickchartButtonEl =\n",
              "        document.querySelector('#df-165e5602-64bc-4f71-8fd0-641f0d68c77b button');\n",
              "      quickchartButtonEl.style.display =\n",
              "        google.colab.kernel.accessAllowed ? 'block' : 'none';\n",
              "    })();\n",
              "  </script>\n",
              "</div>\n",
              "\n",
              "  <div id=\"id_918707d2-3628-4068-8aa4-103caf65481f\">\n",
              "    <style>\n",
              "      .colab-df-generate {\n",
              "        background-color: #E8F0FE;\n",
              "        border: none;\n",
              "        border-radius: 50%;\n",
              "        cursor: pointer;\n",
              "        display: none;\n",
              "        fill: #1967D2;\n",
              "        height: 32px;\n",
              "        padding: 0 0 0 0;\n",
              "        width: 32px;\n",
              "      }\n",
              "\n",
              "      .colab-df-generate:hover {\n",
              "        background-color: #E2EBFA;\n",
              "        box-shadow: 0px 1px 2px rgba(60, 64, 67, 0.3), 0px 1px 3px 1px rgba(60, 64, 67, 0.15);\n",
              "        fill: #174EA6;\n",
              "      }\n",
              "\n",
              "      [theme=dark] .colab-df-generate {\n",
              "        background-color: #3B4455;\n",
              "        fill: #D2E3FC;\n",
              "      }\n",
              "\n",
              "      [theme=dark] .colab-df-generate:hover {\n",
              "        background-color: #434B5C;\n",
              "        box-shadow: 0px 1px 3px 1px rgba(0, 0, 0, 0.15);\n",
              "        filter: drop-shadow(0px 1px 2px rgba(0, 0, 0, 0.3));\n",
              "        fill: #FFFFFF;\n",
              "      }\n",
              "    </style>\n",
              "    <button class=\"colab-df-generate\" onclick=\"generateWithVariable('model_CNN_final_results_df')\"\n",
              "            title=\"Generate code using this dataframe.\"\n",
              "            style=\"display:none;\">\n",
              "\n",
              "  <svg xmlns=\"http://www.w3.org/2000/svg\" height=\"24px\"viewBox=\"0 0 24 24\"\n",
              "       width=\"24px\">\n",
              "    <path d=\"M7,19H8.4L18.45,9,17,7.55,7,17.6ZM5,21V16.75L18.45,3.32a2,2,0,0,1,2.83,0l1.4,1.43a1.91,1.91,0,0,1,.58,1.4,1.91,1.91,0,0,1-.58,1.4L9.25,21ZM18.45,9,17,7.55Zm-12,3A5.31,5.31,0,0,0,4.9,8.1,5.31,5.31,0,0,0,1,6.5,5.31,5.31,0,0,0,4.9,4.9,5.31,5.31,0,0,0,6.5,1,5.31,5.31,0,0,0,8.1,4.9,5.31,5.31,0,0,0,12,6.5,5.46,5.46,0,0,0,6.5,12Z\"/>\n",
              "  </svg>\n",
              "    </button>\n",
              "    <script>\n",
              "      (() => {\n",
              "      const buttonEl =\n",
              "        document.querySelector('#id_918707d2-3628-4068-8aa4-103caf65481f button.colab-df-generate');\n",
              "      buttonEl.style.display =\n",
              "        google.colab.kernel.accessAllowed ? 'block' : 'none';\n",
              "\n",
              "      buttonEl.onclick = () => {\n",
              "        google.colab.notebook.generateWithVariable('model_CNN_final_results_df');\n",
              "      }\n",
              "      })();\n",
              "    </script>\n",
              "  </div>\n",
              "\n",
              "    </div>\n",
              "  </div>\n"
            ],
            "application/vnd.google.colaboratory.intrinsic+json": {
              "type": "dataframe",
              "variable_name": "model_CNN_final_results_df",
              "summary": "{\n  \"name\": \"model_CNN_final_results_df\",\n  \"rows\": 4,\n  \"fields\": [\n    {\n      \"column\": \"Metric\",\n      \"properties\": {\n        \"dtype\": \"string\",\n        \"num_unique_values\": 4,\n        \"samples\": [\n          \"Precision\",\n          \"F1-score\",\n          \"Accuracy\"\n        ],\n        \"semantic_type\": \"\",\n        \"description\": \"\"\n      }\n    },\n    {\n      \"column\": \"model_CNN_final\",\n      \"properties\": {\n        \"dtype\": \"number\",\n        \"std\": 0.18636880997992106,\n        \"min\": 78.39,\n        \"max\": 78.74,\n        \"num_unique_values\": 3,\n        \"samples\": [\n          78.74,\n          78.39,\n          78.45\n        ],\n        \"semantic_type\": \"\",\n        \"description\": \"\"\n      }\n    }\n  ]\n}"
            }
          },
          "metadata": {},
          "execution_count": 29
        }
      ]
    },
    {
      "cell_type": "markdown",
      "source": [
        "Looks like the simple CNN model already beats the Random Forest (15) model on all scores!"
      ],
      "metadata": {
        "id": "zFRqmzB5qlZO"
      }
    },
    {
      "cell_type": "code",
      "source": [],
      "metadata": {
        "id": "E2U7ybeZqywz"
      },
      "execution_count": 29,
      "outputs": []
    }
  ]
}